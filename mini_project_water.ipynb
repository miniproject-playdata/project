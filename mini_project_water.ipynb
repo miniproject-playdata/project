{
 "cells": [
  {
   "cell_type": "code",
   "execution_count": 547,
   "id": "1e075d04",
   "metadata": {
    "ExecuteTime": {
     "end_time": "2022-07-20T05:32:09.561184Z",
     "start_time": "2022-07-20T05:32:09.478577Z"
    }
   },
   "outputs": [],
   "source": [
    "import numpy as np\n",
    "import pandas as pd\n",
    "\n",
    "from sklearn.model_selection import train_test_split\n",
    "from sklearn.tree import DecisionTreeClassifier\n",
    "from sklearn.ensemble import RandomForestClassifier\n",
    "from sklearn.neighbors import KNeighborsClassifier\n",
    "from sklearn.ensemble import AdaBoostClassifier\n",
    "from xgboost import XGBClassifier\n",
    "from sklearn.model_selection import RandomizedSearchCV, GridSearchCV\n",
    "from sklearn.metrics import accuracy_score\n",
    "\n"
   ]
  },
  {
   "cell_type": "code",
   "execution_count": 548,
   "id": "a411eb99",
   "metadata": {
    "ExecuteTime": {
     "end_time": "2022-07-20T05:32:09.818915Z",
     "start_time": "2022-07-20T05:32:09.684624Z"
    },
    "scrolled": true
   },
   "outputs": [],
   "source": [
    "data  = pd.read_csv('data/water_potability.csv')"
   ]
  },
  {
   "cell_type": "code",
   "execution_count": 549,
   "id": "8dc285c5",
   "metadata": {
    "ExecuteTime": {
     "end_time": "2022-07-20T05:32:10.200599Z",
     "start_time": "2022-07-20T05:32:10.160644Z"
    }
   },
   "outputs": [
    {
     "data": {
      "text/plain": [
       "0    1998\n",
       "1    1278\n",
       "Name: Potability, dtype: int64"
      ]
     },
     "execution_count": 549,
     "metadata": {},
     "output_type": "execute_result"
    }
   ],
   "source": [
    "data.Potability.value_counts()"
   ]
  },
  {
   "cell_type": "code",
   "execution_count": 535,
   "id": "c4a6d800",
   "metadata": {
    "ExecuteTime": {
     "end_time": "2022-07-19T15:18:59.710654Z",
     "start_time": "2022-07-19T15:18:59.693650Z"
    },
    "scrolled": true
   },
   "outputs": [],
   "source": [
    "from sklearn.utils import shuffle\n",
    "notpotable  = data[data['Potability']==0]\n",
    "potable = data[data['Potability']==1]  \n",
    "\n",
    "notpotable = notpotable.fillna(notpotable.mean())\n",
    "potable  = potable.fillna(potable.mean())\n",
    "\n",
    "data = pd.concat([notpotable ,potable])\n",
    "\n",
    "data = shuffle(data)"
   ]
  },
  {
   "cell_type": "code",
   "execution_count": 536,
   "id": "bf2653b6",
   "metadata": {
    "ExecuteTime": {
     "end_time": "2022-07-19T15:18:59.894784Z",
     "start_time": "2022-07-19T15:18:59.879778Z"
    }
   },
   "outputs": [
    {
     "data": {
      "text/plain": [
       "0    1998\n",
       "1    1278\n",
       "Name: Potability, dtype: int64"
      ]
     },
     "execution_count": 536,
     "metadata": {},
     "output_type": "execute_result"
    }
   ],
   "source": [
    "data.Potability.value_counts()"
   ]
  },
  {
   "cell_type": "code",
   "execution_count": 537,
   "id": "04918ae0",
   "metadata": {
    "ExecuteTime": {
     "end_time": "2022-07-19T15:19:03.152377Z",
     "start_time": "2022-07-19T15:19:00.054654Z"
    }
   },
   "outputs": [
    {
     "name": "stdout",
     "output_type": "stream",
     "text": [
      "Requirement already satisfied: imbalanced-learn in c:\\users\\park\\anaconda3\\lib\\site-packages (0.9.1)\n",
      "Requirement already satisfied: threadpoolctl>=2.0.0 in c:\\users\\park\\anaconda3\\lib\\site-packages (from imbalanced-learn) (2.2.0)\n",
      "Requirement already satisfied: numpy>=1.17.3 in c:\\users\\park\\anaconda3\\lib\\site-packages (from imbalanced-learn) (1.20.3)\n",
      "Requirement already satisfied: scikit-learn>=1.1.0 in c:\\users\\park\\anaconda3\\lib\\site-packages (from imbalanced-learn) (1.1.1)\n",
      "Requirement already satisfied: joblib>=1.0.0 in c:\\users\\park\\anaconda3\\lib\\site-packages (from imbalanced-learn) (1.1.0)\n",
      "Requirement already satisfied: scipy>=1.3.2 in c:\\users\\park\\anaconda3\\lib\\site-packages (from imbalanced-learn) (1.7.1)\n"
     ]
    }
   ],
   "source": [
    "!pip install imbalanced-learn"
   ]
  },
  {
   "cell_type": "code",
   "execution_count": 542,
   "id": "1d90dcbf",
   "metadata": {
    "ExecuteTime": {
     "end_time": "2022-07-19T15:19:08.340119Z",
     "start_time": "2022-07-19T15:19:08.321178Z"
    }
   },
   "outputs": [],
   "source": [
    "from sklearn.preprocessing import StandardScaler\n",
    "\n",
    "\n",
    "y = data['Potability']\n",
    "X = data.drop(columns=['Potability'], axis = 1)\n",
    "\n",
    "\n",
    "\n",
    "\n",
    "X_train, X_test, y_train, y_test = train_test_split(X, y, test_size=0.3,stratify=y, random_state=1)\n",
    "\n",
    "\n"
   ]
  },
  {
   "cell_type": "code",
   "execution_count": 543,
   "id": "6950bbde",
   "metadata": {
    "ExecuteTime": {
     "end_time": "2022-07-19T15:19:08.597634Z",
     "start_time": "2022-07-19T15:19:08.586632Z"
    }
   },
   "outputs": [
    {
     "data": {
      "text/plain": [
       "0    1398\n",
       "1    1258\n",
       "Name: Potability, dtype: int64"
      ]
     },
     "execution_count": 543,
     "metadata": {},
     "output_type": "execute_result"
    }
   ],
   "source": [
    "from imblearn.over_sampling import SMOTE,RandomOverSampler,BorderlineSMOTE,ADASYN\n",
    "\n",
    "sm = SMOTE(random_state=42,k_neighbors=5)\n",
    "ros = RandomOverSampler(sampling_strategy= 0.9,random_state=40,shrinkage=0.1)\n",
    "bsm = BorderlineSMOTE(random_state= 20,k_neighbors=2,m_neighbors=10)\n",
    "ads = ADASYN(random_state= 43)\n",
    "\n",
    "X_train_resampled, y_train_resampled = ros.fit_resample(X_train, y_train)\n",
    "\n",
    "y_train_resampled.value_counts()"
   ]
  },
  {
   "cell_type": "code",
   "execution_count": 544,
   "id": "d3152151",
   "metadata": {
    "ExecuteTime": {
     "end_time": "2022-07-19T15:19:09.127660Z",
     "start_time": "2022-07-19T15:19:09.104654Z"
    }
   },
   "outputs": [],
   "source": [
    "from sklearn.preprocessing import StandardScaler\n",
    "\n",
    "\n",
    "scaler = StandardScaler()\n",
    "\n",
    "X_train_scaled = scaler.fit_transform(X_train_resampled)\n",
    "X_test_scaled = scaler.transform(X_test)\n",
    "\n",
    "\n"
   ]
  },
  {
   "cell_type": "code",
   "execution_count": 545,
   "id": "294e1605",
   "metadata": {
    "ExecuteTime": {
     "end_time": "2022-07-19T15:19:09.982225Z",
     "start_time": "2022-07-19T15:19:09.581136Z"
    }
   },
   "outputs": [
    {
     "name": "stdout",
     "output_type": "stream",
     "text": [
      "0.9962349397590361 0.7670396744659207\n"
     ]
    }
   ],
   "source": [
    "rf = RandomForestClassifier(n_estimators=100,\n",
    "                            max_depth=40,\n",
    "                            random_state=10,\n",
    "                            max_features=9,\n",
    "                            min_samples_leaf = 2,\n",
    "                            n_jobs=-1)\n",
    "\n",
    "\n",
    "\n",
    "rf.fit(X_train_scaled, y_train_resampled)\n",
    "\n",
    "rf_pred_train = rf.predict(X_train_scaled)\n",
    "rf_pred_test = rf.predict(X_test_scaled)\n",
    "\n",
    "print(accuracy_score(y_train_resampled, rf_pred_train), accuracy_score(y_test, rf_pred_test))"
   ]
  },
  {
   "cell_type": "code",
   "execution_count": 546,
   "id": "7a45964a",
   "metadata": {
    "ExecuteTime": {
     "end_time": "2022-07-19T15:19:10.555643Z",
     "start_time": "2022-07-19T15:19:10.546650Z"
    }
   },
   "outputs": [
    {
     "name": "stdout",
     "output_type": "stream",
     "text": [
      "0.5542168674698795 0.5869786368260427\n"
     ]
    }
   ],
   "source": [
    "from sklearn.linear_model import LogisticRegression\n",
    "\n",
    "lr = LogisticRegression(random_state=0)\n",
    "lr.fit(X_train_scaled, y_train_resampled)\n",
    "\n",
    "\n",
    "lr_pred_train = lr.predict(X_train_scaled)\n",
    "lr_pred_test = lr.predict(X_test_scaled)\n",
    "\n",
    "\n",
    "print(accuracy_score(y_train_resampled, lr_pred_train), accuracy_score(y_test, lr_pred_test))"
   ]
  },
  {
   "cell_type": "code",
   "execution_count": null,
   "id": "6a6d3524",
   "metadata": {
    "ExecuteTime": {
     "end_time": "2022-07-19T07:21:39.648626Z",
     "start_time": "2022-07-19T07:21:39.640626Z"
    }
   },
   "outputs": [],
   "source": []
  },
  {
   "cell_type": "code",
   "execution_count": null,
   "id": "f1403634",
   "metadata": {},
   "outputs": [],
   "source": []
  },
  {
   "cell_type": "code",
   "execution_count": null,
   "id": "5d0c9239",
   "metadata": {},
   "outputs": [],
   "source": []
  },
  {
   "cell_type": "code",
   "execution_count": null,
   "id": "b3612c36",
   "metadata": {},
   "outputs": [],
   "source": []
  },
  {
   "cell_type": "code",
   "execution_count": null,
   "id": "5d1a9e06",
   "metadata": {},
   "outputs": [],
   "source": []
  }
 ],
 "metadata": {
  "kernelspec": {
   "display_name": "Python 3 (ipykernel)",
   "language": "python",
   "name": "python3"
  },
  "language_info": {
   "codemirror_mode": {
    "name": "ipython",
    "version": 3
   },
   "file_extension": ".py",
   "mimetype": "text/x-python",
   "name": "python",
   "nbconvert_exporter": "python",
   "pygments_lexer": "ipython3",
   "version": "3.9.7"
  }
 },
 "nbformat": 4,
 "nbformat_minor": 5
}
