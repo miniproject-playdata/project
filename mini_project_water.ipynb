{
 "cells": [
  {
   "cell_type": "code",
   "execution_count": 2481,
   "id": "1e075d04",
   "metadata": {
    "ExecuteTime": {
     "end_time": "2022-07-19T06:24:48.992396Z",
     "start_time": "2022-07-19T06:24:48.983394Z"
    }
   },
   "outputs": [],
   "source": [
    "import numpy as np\n",
    "import pandas as pd\n",
    "\n",
    "from sklearn.model_selection import train_test_split\n",
    "from sklearn.tree import DecisionTreeClassifier\n",
    "from sklearn.ensemble import RandomForestClassifier\n",
    "from sklearn.neighbors import KNeighborsClassifier\n",
    "from sklearn.ensemble import AdaBoostClassifier\n",
    "from xgboost import XGBClassifier\n",
    "from sklearn.model_selection import RandomizedSearchCV, GridSearchCV\n",
    "from sklearn.metrics import accuracy_score\n",
    "\n"
   ]
  },
  {
   "cell_type": "code",
   "execution_count": 2482,
   "id": "a411eb99",
   "metadata": {
    "ExecuteTime": {
     "end_time": "2022-07-19T06:24:49.174647Z",
     "start_time": "2022-07-19T06:24:49.146641Z"
    },
    "scrolled": true
   },
   "outputs": [],
   "source": [
    "data  = pd.read_csv('data/water_potability.csv')\n",
    "\n",
    "data= data.dropna()\n",
    "\n"
   ]
  },
  {
   "cell_type": "code",
   "execution_count": 2483,
   "id": "17ea24e5",
   "metadata": {
    "ExecuteTime": {
     "end_time": "2022-07-19T06:24:49.312342Z",
     "start_time": "2022-07-19T06:24:49.306341Z"
    }
   },
   "outputs": [
    {
     "data": {
      "text/plain": [
       "0    1200\n",
       "1     811\n",
       "Name: Potability, dtype: int64"
      ]
     },
     "execution_count": 2483,
     "metadata": {},
     "output_type": "execute_result"
    }
   ],
   "source": [
    "data.Potability.value_counts()"
   ]
  },
  {
   "cell_type": "code",
   "execution_count": 2484,
   "id": "232b2aa2",
   "metadata": {
    "ExecuteTime": {
     "end_time": "2022-07-19T06:24:49.479629Z",
     "start_time": "2022-07-19T06:24:49.468631Z"
    },
    "scrolled": true
   },
   "outputs": [],
   "source": [
    "from sklearn.utils import resample\n",
    "from sklearn.utils import shuffle\n",
    "\n",
    "notpotable  = data[data['Potability']==0]\n",
    "potable = data[data['Potability']==1]  \n",
    "\n",
    "\n",
    "N = 810\n",
    "\n",
    "df_minority_upsampled = resample(notpotable, replace = True, n_samples = N)\n",
    "df_minority_upsampled2 = resample(potable, replace = True, n_samples = N)\n",
    "\n",
    "\n",
    "data = pd.concat([df_minority_upsampled, df_minority_upsampled2])\n",
    "\n"
   ]
  },
  {
   "cell_type": "code",
   "execution_count": 2485,
   "id": "fa4517b6",
   "metadata": {
    "ExecuteTime": {
     "end_time": "2022-07-19T06:24:49.644653Z",
     "start_time": "2022-07-19T06:24:49.626638Z"
    }
   },
   "outputs": [
    {
     "data": {
      "text/plain": [
       "0    810\n",
       "1    810\n",
       "Name: Potability, dtype: int64"
      ]
     },
     "execution_count": 2485,
     "metadata": {},
     "output_type": "execute_result"
    }
   ],
   "source": [
    "data.Potability.value_counts()"
   ]
  },
  {
   "cell_type": "code",
   "execution_count": 2486,
   "id": "1d90dcbf",
   "metadata": {
    "ExecuteTime": {
     "end_time": "2022-07-19T06:24:49.798655Z",
     "start_time": "2022-07-19T06:24:49.773640Z"
    }
   },
   "outputs": [],
   "source": [
    "from sklearn.preprocessing import StandardScaler\n",
    "y = data['Potability']\n",
    "X = data.drop(columns=['Potability'], axis = 1)\n",
    "\n",
    "\n",
    "\n",
    "X_train, X_test, y_train, y_test = train_test_split(X, y, test_size=0.3,stratify=y, random_state=110)\n",
    "\n",
    "\n",
    "scaler = StandardScaler()\n",
    "X_train_scaled = scaler.fit_transform(X_train)\n",
    "X_test_scaled = scaler.transform(X_test)\n",
    "\n",
    "\n",
    "\n"
   ]
  },
  {
   "cell_type": "code",
   "execution_count": 2487,
   "id": "294e1605",
   "metadata": {
    "ExecuteTime": {
     "end_time": "2022-07-19T06:24:50.197512Z",
     "start_time": "2022-07-19T06:24:49.919451Z"
    }
   },
   "outputs": [
    {
     "name": "stdout",
     "output_type": "stream",
     "text": [
      "0.9991181657848325 0.7962962962962963\n"
     ]
    }
   ],
   "source": [
    "rf = RandomForestClassifier(n_estimators=100,\n",
    "                            max_depth=30,\n",
    "                            random_state=110,\n",
    "                            max_features=8,\n",
    "                            min_samples_leaf = 2,\n",
    "                            n_jobs=-1)\n",
    "\n",
    "\n",
    "\n",
    "rf.fit(X_train_scaled , y_train)\n",
    "pred_train = rf.predict(X_train_scaled )\n",
    "pred_test = rf.predict(X_test_scaled )\n",
    "\n",
    "print(accuracy_score(y_train, pred_train), accuracy_score(y_test, pred_test))"
   ]
  },
  {
   "cell_type": "code",
   "execution_count": null,
   "id": "5ab14182",
   "metadata": {
    "ExecuteTime": {
     "end_time": "2022-07-19T05:58:20.807012Z",
     "start_time": "2022-07-19T05:58:20.779840Z"
    }
   },
   "outputs": [],
   "source": []
  },
  {
   "cell_type": "code",
   "execution_count": null,
   "id": "f33173b2",
   "metadata": {},
   "outputs": [],
   "source": []
  },
  {
   "cell_type": "code",
   "execution_count": null,
   "id": "bbebca47",
   "metadata": {},
   "outputs": [],
   "source": []
  }
 ],
 "metadata": {
  "kernelspec": {
   "display_name": "Python 3 (ipykernel)",
   "language": "python",
   "name": "python3"
  },
  "language_info": {
   "codemirror_mode": {
    "name": "ipython",
    "version": 3
   },
   "file_extension": ".py",
   "mimetype": "text/x-python",
   "name": "python",
   "nbconvert_exporter": "python",
   "pygments_lexer": "ipython3",
   "version": "3.9.7"
  }
 },
 "nbformat": 4,
 "nbformat_minor": 5
}
