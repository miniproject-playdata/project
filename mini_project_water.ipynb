{
 "cells": [
  {
   "cell_type": "code",
   "execution_count": 1362,
   "id": "1e075d04",
   "metadata": {
    "ExecuteTime": {
     "end_time": "2022-07-19T05:31:07.277647Z",
     "start_time": "2022-07-19T05:31:07.268643Z"
    }
   },
   "outputs": [],
   "source": [
    "import numpy as np\n",
    "import pandas as pd\n",
    "\n",
    "from sklearn.model_selection import train_test_split\n",
    "from sklearn.tree import DecisionTreeClassifier\n",
    "from sklearn.ensemble import RandomForestClassifier\n",
    "from sklearn.neighbors import KNeighborsClassifier\n",
    "from sklearn.ensemble import AdaBoostClassifier\n",
    "from xgboost import XGBClassifier\n",
    "from sklearn.model_selection import RandomizedSearchCV, GridSearchCV\n",
    "from sklearn.metrics import accuracy_score\n",
    "\n"
   ]
  },
  {
   "cell_type": "code",
   "execution_count": 1363,
   "id": "a411eb99",
   "metadata": {
    "ExecuteTime": {
     "end_time": "2022-07-19T05:31:08.082639Z",
     "start_time": "2022-07-19T05:31:08.054671Z"
    },
    "scrolled": true
   },
   "outputs": [],
   "source": [
    "data  = pd.read_csv('data/water_potability.csv')\n",
    "\n",
    "data= data.dropna()"
   ]
  },
  {
   "cell_type": "code",
   "execution_count": 1364,
   "id": "da3ac69e",
   "metadata": {
    "ExecuteTime": {
     "end_time": "2022-07-19T05:31:08.674993Z",
     "start_time": "2022-07-19T05:31:08.662644Z"
    }
   },
   "outputs": [],
   "source": [
    "notpotable  = data[data['Potability']==0]\n",
    "potable = data[data['Potability']==1]  \n",
    "\n",
    "from sklearn.utils import resample\n",
    "df_minority_upsampled = resample(potable, replace = True, n_samples = 1200) \n",
    "\n",
    "from sklearn.utils import shuffle\n",
    "data = pd.concat([notpotable, df_minority_upsampled])\n",
    "data = shuffle(data) "
   ]
  },
  {
   "cell_type": "code",
   "execution_count": 1365,
   "id": "1d90dcbf",
   "metadata": {
    "ExecuteTime": {
     "end_time": "2022-07-19T05:31:09.187692Z",
     "start_time": "2022-07-19T05:31:09.171639Z"
    }
   },
   "outputs": [],
   "source": [
    "\n",
    "y = data['Potability']\n",
    "X = data.drop(columns=['Potability'], axis = 1)\n",
    "\n",
    "\n",
    "\n",
    "X_train, X_test, y_train, y_test = train_test_split(X, y, test_size=0.2,stratify=y, random_state=101)\n",
    "scaler = StandardScaler()\n",
    "X_train_scaled = scaler.fit_transform(X_train)\n",
    "X_test_scaled = scaler.transform(X_test)\n",
    "\n",
    "\n",
    "\n"
   ]
  },
  {
   "cell_type": "code",
   "execution_count": 1366,
   "id": "294e1605",
   "metadata": {
    "ExecuteTime": {
     "end_time": "2022-07-19T05:31:10.188167Z",
     "start_time": "2022-07-19T05:31:09.810643Z"
    }
   },
   "outputs": [
    {
     "name": "stdout",
     "output_type": "stream",
     "text": [
      "1.0 0.8395833333333333\n"
     ]
    }
   ],
   "source": [
    "rf = RandomForestClassifier(n_estimators=100,\n",
    "                            max_depth=50,\n",
    "                            random_state=101,\n",
    "                            max_features=9,\n",
    "                            min_samples_leaf = 1,\n",
    "                            n_jobs=-1)\n",
    "\n",
    "\n",
    "\n",
    "rf.fit(X_train_scaled , y_train)\n",
    "pred_train = rf.predict(X_train_scaled )\n",
    "pred_test = rf.predict(X_test_scaled )\n",
    "\n",
    "print(accuracy_score(y_train, pred_train), accuracy_score(y_test, pred_test))"
   ]
  },
  {
   "cell_type": "code",
   "execution_count": null,
   "id": "18b6dea7",
   "metadata": {},
   "outputs": [],
   "source": []
  },
  {
   "cell_type": "code",
   "execution_count": null,
   "id": "d4664417",
   "metadata": {},
   "outputs": [],
   "source": []
  }
 ],
 "metadata": {
  "kernelspec": {
   "display_name": "Python 3 (ipykernel)",
   "language": "python",
   "name": "python3"
  },
  "language_info": {
   "codemirror_mode": {
    "name": "ipython",
    "version": 3
   },
   "file_extension": ".py",
   "mimetype": "text/x-python",
   "name": "python",
   "nbconvert_exporter": "python",
   "pygments_lexer": "ipython3",
   "version": "3.9.7"
  }
 },
 "nbformat": 4,
 "nbformat_minor": 5
}
