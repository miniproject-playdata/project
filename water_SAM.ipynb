{
 "cells": [
  {
   "cell_type": "markdown",
   "id": "c0176980",
   "metadata": {},
   "source": [
    "# 데이터셋 가져오기"
   ]
  },
  {
   "cell_type": "code",
   "execution_count": null,
   "id": "e3d34ee8",
   "metadata": {
    "ExecuteTime": {
     "end_time": "2022-07-19T07:09:18.573848Z",
     "start_time": "2022-07-19T07:09:18.536870Z"
    },
    "scrolled": true
   },
   "outputs": [],
   "source": [
    "import pandas as pd\n",
    "\n",
    "df = pd.read_csv('water_potability.csv')\n",
    "df.head()"
   ]
  },
  {
   "cell_type": "code",
   "execution_count": null,
   "id": "720c0520",
   "metadata": {
    "ExecuteTime": {
     "end_time": "2022-07-19T07:09:19.313934Z",
     "start_time": "2022-07-19T07:09:19.295933Z"
    }
   },
   "outputs": [],
   "source": [
    "df.info()"
   ]
  },
  {
   "cell_type": "code",
   "execution_count": null,
   "id": "3da0fb97",
   "metadata": {
    "ExecuteTime": {
     "end_time": "2022-07-19T07:09:20.250725Z",
     "start_time": "2022-07-19T07:09:20.232713Z"
    }
   },
   "outputs": [],
   "source": [
    "df.isnull().sum()"
   ]
  },
  {
   "cell_type": "code",
   "execution_count": null,
   "id": "88d6d328",
   "metadata": {
    "ExecuteTime": {
     "end_time": "2022-07-19T07:09:20.811603Z",
     "start_time": "2022-07-19T07:09:20.792615Z"
    }
   },
   "outputs": [],
   "source": [
    "df['Potability'].value_counts()"
   ]
  },
  {
   "cell_type": "markdown",
   "id": "889c4bda",
   "metadata": {},
   "source": [
    "# 결측치 처리"
   ]
  },
  {
   "cell_type": "code",
   "execution_count": null,
   "id": "fc996cbf",
   "metadata": {
    "ExecuteTime": {
     "end_time": "2022-07-19T07:09:21.946513Z",
     "start_time": "2022-07-19T07:09:21.927523Z"
    }
   },
   "outputs": [],
   "source": [
    "ph_mean_0 = df[df['Potability'] == 0]['ph'].mean(skipna=True)\n",
    "df.loc[(df['Potability'] == 0) & (df['ph'].isnull()), 'ph'] = ph_mean_0\n",
    "\n",
    "ph_mean_1 = df[df['Potability'] == 1]['ph'].mean(skipna=True)\n",
    "df.loc[(df['Potability'] == 1) & (df['ph'].isnull()), 'ph'] = ph_mean_1\n",
    "\n",
    "sulf_mean_0 = df[df['Potability'] == 0]['Sulfate'].mean(skipna=True)\n",
    "df.loc[(df['Potability'] == 0) & (df['Sulfate'].isnull()), 'Sulfate'] = sulf_mean_0\n",
    "\n",
    "sulf_mean_1 = df[df['Potability'] == 1]['Sulfate'].mean(skipna=True)\n",
    "df.loc[(df['Potability'] == 1) & (df['Sulfate'].isnull()), 'Sulfate'] = sulf_mean_1\n",
    "\n",
    "trih_mean_0 = df[df['Potability'] == 0]['Trihalomethanes'].mean(skipna=True)\n",
    "df.loc[(df['Potability'] == 0) & (df['Trihalomethanes'].isnull()), 'Trihalomethanes'] = trih_mean_0\n",
    "\n",
    "trih_mean_1 = df[df['Potability'] == 1]['Trihalomethanes'].mean(skipna=True)\n",
    "df.loc[(df['Potability'] == 1) & (df['Trihalomethanes'].isnull()), 'Trihalomethanes'] = trih_mean_1"
   ]
  },
  {
   "cell_type": "code",
   "execution_count": null,
   "id": "0399c014",
   "metadata": {
    "ExecuteTime": {
     "end_time": "2022-07-19T07:09:22.826523Z",
     "start_time": "2022-07-19T07:09:22.808524Z"
    }
   },
   "outputs": [],
   "source": [
    "df['ph'].isnull().sum()"
   ]
  },
  {
   "cell_type": "code",
   "execution_count": null,
   "id": "bc580e3f",
   "metadata": {
    "ExecuteTime": {
     "end_time": "2022-07-19T07:09:23.218893Z",
     "start_time": "2022-07-19T07:09:23.208898Z"
    }
   },
   "outputs": [],
   "source": [
    "from sklearn.model_selection import train_test_split, GridSearchCV, StratifiedKFold, cross_val_score, RandomizedSearchCV\n",
    "from sklearn.tree import DecisionTreeClassifier\n",
    "from sklearn.ensemble import RandomForestClassifier\n",
    "from sklearn.preprocessing import StandardScaler, MinMaxScaler\n",
    "from sklearn.metrics import confusion_matrix, classification_report, accuracy_score, roc_auc_score, precision_score, recall_score, f1_score\n",
    "from sklearn.linear_model import LogisticRegression\n",
    "from sklearn.svm import SVC\n",
    "from sklearn.naive_bayes import GaussianNB\n",
    "from sklearn.neighbors import KNeighborsClassifier"
   ]
  },
  {
   "cell_type": "markdown",
   "id": "709955ad",
   "metadata": {},
   "source": [
    "# 데이터 분리"
   ]
  },
  {
   "cell_type": "code",
   "execution_count": null,
   "id": "026f4ebf",
   "metadata": {
    "ExecuteTime": {
     "end_time": "2022-07-19T07:09:24.461587Z",
     "start_time": "2022-07-19T07:09:24.439602Z"
    }
   },
   "outputs": [],
   "source": [
    "X = df.drop(columns='Potability')\n",
    "y = df['Potability']\n",
    "\n",
    "X_train, X_test, y_train, y_test = train_test_split(X, y, test_size = 0.2, stratify=y, random_state=0)\n",
    "X_train, X_val, y_train, y_val = train_test_split(X_train, y_train, test_size = 0.25, stratify=y_train, random_state=0)"
   ]
  },
  {
   "cell_type": "code",
   "execution_count": null,
   "id": "dbf4b4d2",
   "metadata": {
    "ExecuteTime": {
     "end_time": "2022-07-19T07:09:25.298522Z",
     "start_time": "2022-07-19T07:09:25.279532Z"
    }
   },
   "outputs": [],
   "source": [
    "X_train.shape, X_val.shape, X_test.shape"
   ]
  },
  {
   "cell_type": "markdown",
   "id": "0be5e2b0",
   "metadata": {},
   "source": [
    "# Feature Scaling"
   ]
  },
  {
   "cell_type": "code",
   "execution_count": null,
   "id": "59721ab8",
   "metadata": {
    "ExecuteTime": {
     "end_time": "2022-07-19T07:09:29.123783Z",
     "start_time": "2022-07-19T07:09:29.103805Z"
    },
    "scrolled": true
   },
   "outputs": [],
   "source": [
    "sc = StandardScaler()\n",
    "X_train = sc.fit_transform(X_train)\n",
    "X_val = sc.transform(X_val)\n",
    "X_test = sc.transform(X_test)"
   ]
  },
  {
   "cell_type": "markdown",
   "id": "54925f1c",
   "metadata": {},
   "source": [
    "# 최적 파라미터"
   ]
  },
  {
   "cell_type": "markdown",
   "id": "56d13191",
   "metadata": {},
   "source": [
    "## RandomizedSearchCV"
   ]
  },
  {
   "cell_type": "code",
   "execution_count": null,
   "id": "98f358ea",
   "metadata": {
    "ExecuteTime": {
     "end_time": "2022-07-19T07:09:46.734968Z",
     "start_time": "2022-07-19T07:09:46.728961Z"
    }
   },
   "outputs": [],
   "source": [
    "params = {\n",
    "    \"n_estimators\":range(100,1001,100), \n",
    "    'max_depth':range(1,11),\n",
    "    'max_features':range(5, 31, 2) \n",
    "}\n",
    "\n",
    "rfc = RandomForestClassifier(random_state=0)\n",
    "rs = RandomizedSearchCV(rfc, \n",
    "                        params, \n",
    "                        scoring='accuracy',\n",
    "                        cv=4, \n",
    "                        n_jobs=-1,\n",
    "                        n_iter=60)"
   ]
  },
  {
   "cell_type": "code",
   "execution_count": null,
   "id": "92b6ea4d",
   "metadata": {
    "ExecuteTime": {
     "end_time": "2022-07-19T07:12:11.847045Z",
     "start_time": "2022-07-19T07:09:47.959588Z"
    }
   },
   "outputs": [],
   "source": [
    "rs.fit(X_train, y_train)"
   ]
  },
  {
   "cell_type": "code",
   "execution_count": null,
   "id": "e1639563",
   "metadata": {
    "ExecuteTime": {
     "end_time": "2022-07-19T07:12:20.735898Z",
     "start_time": "2022-07-19T07:12:20.728911Z"
    }
   },
   "outputs": [],
   "source": [
    "rs.best_score_"
   ]
  },
  {
   "cell_type": "code",
   "execution_count": null,
   "id": "8281f4e8",
   "metadata": {
    "ExecuteTime": {
     "end_time": "2022-07-19T07:12:22.795159Z",
     "start_time": "2022-07-19T07:12:22.785164Z"
    }
   },
   "outputs": [],
   "source": [
    "rs.best_params_"
   ]
  },
  {
   "cell_type": "code",
   "execution_count": null,
   "id": "9035ad82",
   "metadata": {
    "ExecuteTime": {
     "end_time": "2022-07-19T07:12:24.885174Z",
     "start_time": "2022-07-19T07:12:24.864187Z"
    }
   },
   "outputs": [],
   "source": [
    "df_result = pd.DataFrame(rs.cv_results_).sort_values('rank_test_score')\n",
    "df_result.head()"
   ]
  },
  {
   "cell_type": "code",
   "execution_count": null,
   "id": "302d33e1",
   "metadata": {
    "ExecuteTime": {
     "end_time": "2022-07-19T07:12:26.093896Z",
     "start_time": "2022-07-19T07:12:26.072898Z"
    }
   },
   "outputs": [],
   "source": [
    "best_model = rs.best_estimator_\n",
    "best_model"
   ]
  },
  {
   "cell_type": "code",
   "execution_count": null,
   "id": "eb05b8f0",
   "metadata": {
    "ExecuteTime": {
     "end_time": "2022-07-19T07:12:28.698800Z",
     "start_time": "2022-07-19T07:12:28.569633Z"
    },
    "scrolled": false
   },
   "outputs": [],
   "source": [
    "accuracy_score(y_test, best_model.predict(X_test))"
   ]
  },
  {
   "cell_type": "code",
   "execution_count": null,
   "id": "bd70c3eb",
   "metadata": {
    "ExecuteTime": {
     "end_time": "2022-07-19T07:12:31.769178Z",
     "start_time": "2022-07-19T07:12:31.648257Z"
    }
   },
   "outputs": [],
   "source": [
    "print_classification_metrics(y_test, best_model.predict(X_test), title='Best Model Test')"
   ]
  },
  {
   "cell_type": "code",
   "execution_count": null,
   "id": "cef5f6f1",
   "metadata": {
    "ExecuteTime": {
     "end_time": "2022-07-19T07:12:40.783930Z",
     "start_time": "2022-07-19T07:12:40.711955Z"
    }
   },
   "outputs": [],
   "source": [
    "fi_rs = best_model.feature_importances_\n",
    "fi_rs"
   ]
  },
  {
   "cell_type": "code",
   "execution_count": null,
   "id": "31d0304d",
   "metadata": {
    "ExecuteTime": {
     "end_time": "2022-07-19T07:12:41.587304Z",
     "start_time": "2022-07-19T07:12:41.576321Z"
    }
   },
   "outputs": [],
   "source": [
    "fi_rs_s = pd.Series(fi_rs, index = X.columns)\n",
    "fi_rs_s"
   ]
  },
  {
   "cell_type": "code",
   "execution_count": null,
   "id": "d133b79a",
   "metadata": {
    "ExecuteTime": {
     "end_time": "2022-07-19T07:12:43.324876Z",
     "start_time": "2022-07-19T07:12:42.472190Z"
    }
   },
   "outputs": [],
   "source": [
    "fi_rs_s.sort_values().plot(kind='barh', figsize=(8,6))"
   ]
  },
  {
   "cell_type": "code",
   "execution_count": null,
   "id": "c26140c2",
   "metadata": {},
   "outputs": [],
   "source": []
  },
  {
   "cell_type": "code",
   "execution_count": null,
   "id": "fcabed7d",
   "metadata": {},
   "outputs": [],
   "source": []
  },
  {
   "cell_type": "code",
   "execution_count": null,
   "id": "4533a7db",
   "metadata": {},
   "outputs": [],
   "source": []
  },
  {
   "cell_type": "code",
   "execution_count": null,
   "id": "c1684dd5",
   "metadata": {},
   "outputs": [],
   "source": []
  },
  {
   "cell_type": "code",
   "execution_count": null,
   "id": "3acedd73",
   "metadata": {},
   "outputs": [],
   "source": []
  },
  {
   "cell_type": "code",
   "execution_count": null,
   "id": "8ab25ae2",
   "metadata": {},
   "outputs": [],
   "source": []
  },
  {
   "cell_type": "code",
   "execution_count": null,
   "id": "23969b50",
   "metadata": {},
   "outputs": [],
   "source": []
  },
  {
   "cell_type": "code",
   "execution_count": null,
   "id": "a48dfc6f",
   "metadata": {},
   "outputs": [],
   "source": []
  },
  {
   "cell_type": "code",
   "execution_count": null,
   "id": "0965f258",
   "metadata": {},
   "outputs": [],
   "source": []
  },
  {
   "cell_type": "code",
   "execution_count": null,
   "id": "55df8942",
   "metadata": {},
   "outputs": [],
   "source": []
  }
 ],
 "metadata": {
  "kernelspec": {
   "display_name": "Python 3 (ipykernel)",
   "language": "python",
   "name": "python3"
  },
  "language_info": {
   "codemirror_mode": {
    "name": "ipython",
    "version": 3
   },
   "file_extension": ".py",
   "mimetype": "text/x-python",
   "name": "python",
   "nbconvert_exporter": "python",
   "pygments_lexer": "ipython3",
   "version": "3.9.12"
  },
  "toc": {
   "base_numbering": 1,
   "nav_menu": {},
   "number_sections": true,
   "sideBar": true,
   "skip_h1_title": false,
   "title_cell": "Table of Contents",
   "title_sidebar": "Contents",
   "toc_cell": false,
   "toc_position": {},
   "toc_section_display": true,
   "toc_window_display": false
  },
  "varInspector": {
   "cols": {
    "lenName": 16,
    "lenType": 16,
    "lenVar": 40
   },
   "kernels_config": {
    "python": {
     "delete_cmd_postfix": "",
     "delete_cmd_prefix": "del ",
     "library": "var_list.py",
     "varRefreshCmd": "print(var_dic_list())"
    },
    "r": {
     "delete_cmd_postfix": ") ",
     "delete_cmd_prefix": "rm(",
     "library": "var_list.r",
     "varRefreshCmd": "cat(var_dic_list()) "
    }
   },
   "types_to_exclude": [
    "module",
    "function",
    "builtin_function_or_method",
    "instance",
    "_Feature"
   ],
   "window_display": false
  }
 },
 "nbformat": 4,
 "nbformat_minor": 5
}
