{
 "cells": [
  {
   "cell_type": "code",
   "execution_count": 1598,
   "id": "1e075d04",
   "metadata": {
    "ExecuteTime": {
     "end_time": "2022-07-20T06:48:15.618648Z",
     "start_time": "2022-07-20T06:48:15.601624Z"
    }
   },
   "outputs": [],
   "source": [
    "import numpy as np\n",
    "import pandas as pd\n",
    "\n",
    "from sklearn.model_selection import train_test_split\n",
    "from sklearn.tree import DecisionTreeClassifier\n",
    "from sklearn.ensemble import RandomForestClassifier\n",
    "from sklearn.neighbors import KNeighborsClassifier\n",
    "from sklearn.ensemble import AdaBoostClassifier\n",
    "from xgboost import XGBClassifier\n",
    "from sklearn.model_selection import RandomizedSearchCV, GridSearchCV\n",
    "from sklearn.metrics import accuracy_score\n",
    "\n"
   ]
  },
  {
   "cell_type": "code",
   "execution_count": 1632,
   "id": "a411eb99",
   "metadata": {
    "ExecuteTime": {
     "end_time": "2022-07-20T06:49:40.056787Z",
     "start_time": "2022-07-20T06:49:40.029778Z"
    },
    "scrolled": true
   },
   "outputs": [
    {
     "data": {
      "text/plain": [
       "Potability         1.000000\n",
       "Solids             0.033743\n",
       "Chloramines        0.023779\n",
       "Trihalomethanes    0.007130\n",
       "Turbidity          0.001581\n",
       "ph                -0.003556\n",
       "Conductivity      -0.008128\n",
       "Hardness          -0.013837\n",
       "Sulfate           -0.023577\n",
       "Organic_carbon    -0.030001\n",
       "Name: Potability, dtype: float64"
      ]
     },
     "execution_count": 1632,
     "metadata": {},
     "output_type": "execute_result"
    }
   ],
   "source": [
    "data  = pd.read_csv('data/water_potability.csv')\n",
    "corr = data.corr()\n",
    "corr[\"Potability\"].sort_values(ascending=False)"
   ]
  },
  {
   "cell_type": "code",
   "execution_count": 1633,
   "id": "72629814",
   "metadata": {
    "ExecuteTime": {
     "end_time": "2022-07-20T06:49:40.209689Z",
     "start_time": "2022-07-20T06:49:40.190680Z"
    }
   },
   "outputs": [
    {
     "data": {
      "text/plain": [
       "0    1998\n",
       "1    1278\n",
       "Name: Potability, dtype: int64"
      ]
     },
     "execution_count": 1633,
     "metadata": {},
     "output_type": "execute_result"
    }
   ],
   "source": [
    "data.Potability.value_counts()\n",
    "\n"
   ]
  },
  {
   "cell_type": "code",
   "execution_count": 1634,
   "id": "e4f237f6",
   "metadata": {
    "ExecuteTime": {
     "end_time": "2022-07-20T06:49:40.378808Z",
     "start_time": "2022-07-20T06:49:40.362799Z"
    },
    "scrolled": true
   },
   "outputs": [],
   "source": [
    "from sklearn.utils import shuffle\n",
    "notpotable  = data[data['Potability']==0]\n",
    "potable = data[data['Potability']==1]  \n",
    "\n",
    "notpotable = notpotable.fillna(notpotable.mean())\n",
    "potable  = potable.fillna(potable.mean())\n",
    "\n",
    "data = pd.concat([notpotable ,potable])\n",
    "\n",
    "data = shuffle(data)"
   ]
  },
  {
   "cell_type": "code",
   "execution_count": 1635,
   "id": "7d271349",
   "metadata": {
    "ExecuteTime": {
     "end_time": "2022-07-20T06:49:40.517809Z",
     "start_time": "2022-07-20T06:49:40.498809Z"
    }
   },
   "outputs": [
    {
     "data": {
      "text/plain": [
       "0    1998\n",
       "1    1278\n",
       "Name: Potability, dtype: int64"
      ]
     },
     "execution_count": 1635,
     "metadata": {},
     "output_type": "execute_result"
    }
   ],
   "source": [
    "data.Potability.value_counts()"
   ]
  },
  {
   "cell_type": "code",
   "execution_count": 1636,
   "id": "e67192c1",
   "metadata": {
    "ExecuteTime": {
     "end_time": "2022-07-20T06:49:43.874637Z",
     "start_time": "2022-07-20T06:49:40.746294Z"
    }
   },
   "outputs": [
    {
     "name": "stdout",
     "output_type": "stream",
     "text": [
      "Requirement already satisfied: imbalanced-learn in c:\\users\\park\\anaconda3\\lib\\site-packages (0.9.1)\n",
      "Requirement already satisfied: threadpoolctl>=2.0.0 in c:\\users\\park\\anaconda3\\lib\\site-packages (from imbalanced-learn) (2.2.0)\n",
      "Requirement already satisfied: joblib>=1.0.0 in c:\\users\\park\\anaconda3\\lib\\site-packages (from imbalanced-learn) (1.1.0)\n",
      "Requirement already satisfied: scipy>=1.3.2 in c:\\users\\park\\anaconda3\\lib\\site-packages (from imbalanced-learn) (1.7.1)\n",
      "Requirement already satisfied: numpy>=1.17.3 in c:\\users\\park\\anaconda3\\lib\\site-packages (from imbalanced-learn) (1.20.3)\n",
      "Requirement already satisfied: scikit-learn>=1.1.0 in c:\\users\\park\\anaconda3\\lib\\site-packages (from imbalanced-learn) (1.1.1)\n"
     ]
    }
   ],
   "source": [
    "!pip install imbalanced-learn"
   ]
  },
  {
   "cell_type": "code",
   "execution_count": 1637,
   "id": "1d90dcbf",
   "metadata": {
    "ExecuteTime": {
     "end_time": "2022-07-20T06:49:43.905664Z",
     "start_time": "2022-07-20T06:49:43.877642Z"
    }
   },
   "outputs": [
    {
     "data": {
      "text/html": [
       "<div>\n",
       "<style scoped>\n",
       "    .dataframe tbody tr th:only-of-type {\n",
       "        vertical-align: middle;\n",
       "    }\n",
       "\n",
       "    .dataframe tbody tr th {\n",
       "        vertical-align: top;\n",
       "    }\n",
       "\n",
       "    .dataframe thead th {\n",
       "        text-align: right;\n",
       "    }\n",
       "</style>\n",
       "<table border=\"1\" class=\"dataframe\">\n",
       "  <thead>\n",
       "    <tr style=\"text-align: right;\">\n",
       "      <th></th>\n",
       "      <th>ph</th>\n",
       "      <th>Hardness</th>\n",
       "      <th>Solids</th>\n",
       "      <th>Chloramines</th>\n",
       "      <th>Sulfate</th>\n",
       "      <th>Conductivity</th>\n",
       "      <th>Organic_carbon</th>\n",
       "      <th>Trihalomethanes</th>\n",
       "      <th>Turbidity</th>\n",
       "    </tr>\n",
       "  </thead>\n",
       "  <tbody>\n",
       "    <tr>\n",
       "      <th>979</th>\n",
       "      <td>8.163076</td>\n",
       "      <td>183.161853</td>\n",
       "      <td>20335.676510</td>\n",
       "      <td>6.028559</td>\n",
       "      <td>333.084455</td>\n",
       "      <td>475.296471</td>\n",
       "      <td>18.248098</td>\n",
       "      <td>49.604842</td>\n",
       "      <td>3.287244</td>\n",
       "    </tr>\n",
       "    <tr>\n",
       "      <th>3045</th>\n",
       "      <td>5.622807</td>\n",
       "      <td>194.463239</td>\n",
       "      <td>16119.340190</td>\n",
       "      <td>6.907987</td>\n",
       "      <td>336.648207</td>\n",
       "      <td>408.459081</td>\n",
       "      <td>16.364724</td>\n",
       "      <td>76.631186</td>\n",
       "      <td>3.992957</td>\n",
       "    </tr>\n",
       "    <tr>\n",
       "      <th>2413</th>\n",
       "      <td>7.753936</td>\n",
       "      <td>220.098279</td>\n",
       "      <td>17169.584382</td>\n",
       "      <td>7.984039</td>\n",
       "      <td>344.121899</td>\n",
       "      <td>385.045003</td>\n",
       "      <td>16.848512</td>\n",
       "      <td>47.003322</td>\n",
       "      <td>4.833027</td>\n",
       "    </tr>\n",
       "    <tr>\n",
       "      <th>769</th>\n",
       "      <td>5.729303</td>\n",
       "      <td>162.857585</td>\n",
       "      <td>34573.678786</td>\n",
       "      <td>5.654856</td>\n",
       "      <td>415.287072</td>\n",
       "      <td>297.631365</td>\n",
       "      <td>13.990842</td>\n",
       "      <td>76.744677</td>\n",
       "      <td>3.556395</td>\n",
       "    </tr>\n",
       "    <tr>\n",
       "      <th>2096</th>\n",
       "      <td>11.568768</td>\n",
       "      <td>192.924448</td>\n",
       "      <td>39234.470184</td>\n",
       "      <td>8.860762</td>\n",
       "      <td>235.995461</td>\n",
       "      <td>463.435102</td>\n",
       "      <td>19.628177</td>\n",
       "      <td>81.496529</td>\n",
       "      <td>3.761288</td>\n",
       "    </tr>\n",
       "    <tr>\n",
       "      <th>...</th>\n",
       "      <td>...</td>\n",
       "      <td>...</td>\n",
       "      <td>...</td>\n",
       "      <td>...</td>\n",
       "      <td>...</td>\n",
       "      <td>...</td>\n",
       "      <td>...</td>\n",
       "      <td>...</td>\n",
       "      <td>...</td>\n",
       "    </tr>\n",
       "    <tr>\n",
       "      <th>410</th>\n",
       "      <td>7.085378</td>\n",
       "      <td>185.755728</td>\n",
       "      <td>27345.174288</td>\n",
       "      <td>8.932764</td>\n",
       "      <td>334.564290</td>\n",
       "      <td>313.878771</td>\n",
       "      <td>13.420126</td>\n",
       "      <td>56.974850</td>\n",
       "      <td>4.407566</td>\n",
       "    </tr>\n",
       "    <tr>\n",
       "      <th>1027</th>\n",
       "      <td>7.085378</td>\n",
       "      <td>235.417457</td>\n",
       "      <td>13927.002507</td>\n",
       "      <td>8.551447</td>\n",
       "      <td>334.564290</td>\n",
       "      <td>446.422357</td>\n",
       "      <td>14.134954</td>\n",
       "      <td>51.705215</td>\n",
       "      <td>3.662648</td>\n",
       "    </tr>\n",
       "    <tr>\n",
       "      <th>2972</th>\n",
       "      <td>7.948488</td>\n",
       "      <td>197.594542</td>\n",
       "      <td>23602.187832</td>\n",
       "      <td>7.098458</td>\n",
       "      <td>334.564290</td>\n",
       "      <td>394.767989</td>\n",
       "      <td>14.876694</td>\n",
       "      <td>78.974227</td>\n",
       "      <td>3.891124</td>\n",
       "    </tr>\n",
       "    <tr>\n",
       "      <th>3087</th>\n",
       "      <td>4.032061</td>\n",
       "      <td>200.067973</td>\n",
       "      <td>14720.544829</td>\n",
       "      <td>6.482679</td>\n",
       "      <td>334.564290</td>\n",
       "      <td>519.213370</td>\n",
       "      <td>16.600777</td>\n",
       "      <td>77.293940</td>\n",
       "      <td>4.814235</td>\n",
       "    </tr>\n",
       "    <tr>\n",
       "      <th>1188</th>\n",
       "      <td>7.727421</td>\n",
       "      <td>227.842720</td>\n",
       "      <td>18767.941635</td>\n",
       "      <td>9.716908</td>\n",
       "      <td>332.566990</td>\n",
       "      <td>328.854169</td>\n",
       "      <td>8.233405</td>\n",
       "      <td>66.678214</td>\n",
       "      <td>4.601802</td>\n",
       "    </tr>\n",
       "  </tbody>\n",
       "</table>\n",
       "<p>3276 rows × 9 columns</p>\n",
       "</div>"
      ],
      "text/plain": [
       "             ph    Hardness        Solids  Chloramines     Sulfate  \\\n",
       "979    8.163076  183.161853  20335.676510     6.028559  333.084455   \n",
       "3045   5.622807  194.463239  16119.340190     6.907987  336.648207   \n",
       "2413   7.753936  220.098279  17169.584382     7.984039  344.121899   \n",
       "769    5.729303  162.857585  34573.678786     5.654856  415.287072   \n",
       "2096  11.568768  192.924448  39234.470184     8.860762  235.995461   \n",
       "...         ...         ...           ...          ...         ...   \n",
       "410    7.085378  185.755728  27345.174288     8.932764  334.564290   \n",
       "1027   7.085378  235.417457  13927.002507     8.551447  334.564290   \n",
       "2972   7.948488  197.594542  23602.187832     7.098458  334.564290   \n",
       "3087   4.032061  200.067973  14720.544829     6.482679  334.564290   \n",
       "1188   7.727421  227.842720  18767.941635     9.716908  332.566990   \n",
       "\n",
       "      Conductivity  Organic_carbon  Trihalomethanes  Turbidity  \n",
       "979     475.296471       18.248098        49.604842   3.287244  \n",
       "3045    408.459081       16.364724        76.631186   3.992957  \n",
       "2413    385.045003       16.848512        47.003322   4.833027  \n",
       "769     297.631365       13.990842        76.744677   3.556395  \n",
       "2096    463.435102       19.628177        81.496529   3.761288  \n",
       "...            ...             ...              ...        ...  \n",
       "410     313.878771       13.420126        56.974850   4.407566  \n",
       "1027    446.422357       14.134954        51.705215   3.662648  \n",
       "2972    394.767989       14.876694        78.974227   3.891124  \n",
       "3087    519.213370       16.600777        77.293940   4.814235  \n",
       "1188    328.854169        8.233405        66.678214   4.601802  \n",
       "\n",
       "[3276 rows x 9 columns]"
      ]
     },
     "execution_count": 1637,
     "metadata": {},
     "output_type": "execute_result"
    }
   ],
   "source": [
    "from sklearn.preprocessing import StandardScaler\n",
    "\n",
    "\n",
    "y = data['Potability']\n",
    "X = data.drop(columns=['Potability'], axis = 1)\n",
    "\n",
    "\n",
    "\n",
    "\n",
    "X_train, X_test, y_train, y_test = train_test_split(X, y, test_size=0.3,stratify=y, random_state=1)\n",
    "\n",
    "X"
   ]
  },
  {
   "cell_type": "code",
   "execution_count": 1638,
   "id": "84134b0b",
   "metadata": {
    "ExecuteTime": {
     "end_time": "2022-07-20T06:49:43.921652Z",
     "start_time": "2022-07-20T06:49:43.908649Z"
    }
   },
   "outputs": [
    {
     "data": {
      "text/plain": [
       "0    1398\n",
       "1    1398\n",
       "Name: Potability, dtype: int64"
      ]
     },
     "execution_count": 1638,
     "metadata": {},
     "output_type": "execute_result"
    }
   ],
   "source": [
    "from imblearn.over_sampling import SMOTE,RandomOverSampler,BorderlineSMOTE,ADASYN\n",
    "\n",
    "sm = SMOTE(random_state=42)\n",
    "ros = RandomOverSampler(sampling_strategy= 1,random_state=40,shrinkage=0.1)\n",
    "bsm = BorderlineSMOTE(random_state= 20,k_neighbors=2,m_neighbors=10)\n",
    "ads = ADASYN(random_state= 43)\n",
    "\n",
    "X_train_resampled, y_train_resampled = ros.fit_resample(X_train, y_train)\n",
    "\n",
    "y_train_resampled.value_counts()"
   ]
  },
  {
   "cell_type": "code",
   "execution_count": 1639,
   "id": "8adc708f",
   "metadata": {
    "ExecuteTime": {
     "end_time": "2022-07-20T06:49:43.937655Z",
     "start_time": "2022-07-20T06:49:43.924652Z"
    }
   },
   "outputs": [],
   "source": [
    "from sklearn.preprocessing import StandardScaler\n",
    "\n",
    "\n",
    "scaler = StandardScaler()\n",
    "\n",
    "X_train_scaled = scaler.fit_transform(X_train_resampled)\n",
    "X_test_scaled = scaler.transform(X_test)\n",
    "\n"
   ]
  },
  {
   "cell_type": "code",
   "execution_count": 1643,
   "id": "294e1605",
   "metadata": {
    "ExecuteTime": {
     "end_time": "2022-07-20T06:50:04.189419Z",
     "start_time": "2022-07-20T06:50:02.736535Z"
    }
   },
   "outputs": [
    {
     "name": "stdout",
     "output_type": "stream",
     "text": [
      "1.0 0.7721261444557477\n"
     ]
    }
   ],
   "source": [
    "rf = RandomForestClassifier(n_estimators=500,\n",
    "                            max_depth=300,\n",
    "                            random_state=10,\n",
    "                            max_features=4,\n",
    "                            min_samples_leaf=2,\n",
    "                            n_jobs=-1)\n",
    "\n",
    "\n",
    "\n",
    "rf.fit(X_train_scaled, y_train_resampled)\n",
    "\n",
    "rf_pred_train = rf.predict(X_train_scaled)\n",
    "rf_pred_test = rf.predict(X_test_scaled)\n",
    "\n",
    "print(accuracy_score(y_train_resampled, rf_pred_train), accuracy_score(y_test, rf_pred_test))"
   ]
  },
  {
   "cell_type": "code",
   "execution_count": 1641,
   "id": "da37f480",
   "metadata": {
    "ExecuteTime": {
     "end_time": "2022-07-20T06:49:45.376978Z",
     "start_time": "2022-07-20T06:49:45.364981Z"
    }
   },
   "outputs": [
    {
     "name": "stdout",
     "output_type": "stream",
     "text": [
      "0.540414878397711 0.5147507629704985\n"
     ]
    }
   ],
   "source": [
    "from sklearn.linear_model import LogisticRegression\n",
    "\n",
    "lr = LogisticRegression(random_state=0)\n",
    "lr.fit(X_train_scaled, y_train_resampled)\n",
    "\n",
    "\n",
    "lr_pred_train = lr.predict(X_train_scaled)\n",
    "lr_pred_test = lr.predict(X_test_scaled)\n",
    "\n",
    "\n",
    "print(accuracy_score(y_train_resampled, lr_pred_train), accuracy_score(y_test, lr_pred_test))"
   ]
  },
  {
   "cell_type": "code",
   "execution_count": 1642,
   "id": "747d8de5",
   "metadata": {
    "ExecuteTime": {
     "end_time": "2022-07-20T06:49:45.565030Z",
     "start_time": "2022-07-20T06:49:45.378981Z"
    }
   },
   "outputs": [
    {
     "name": "stdout",
     "output_type": "stream",
     "text": [
      "0.9316239316239316\n"
     ]
    }
   ],
   "source": [
    "\n",
    "\n",
    "\n",
    "X_s = scaler.transform(X)\n",
    "\n",
    "rf_pred_X = rf.predict(X_s)\n",
    "print(accuracy_score(y, rf_pred_X))"
   ]
  },
  {
   "cell_type": "code",
   "execution_count": null,
   "id": "598d8041",
   "metadata": {
    "ExecuteTime": {
     "end_time": "2022-07-20T05:55:08.492838Z",
     "start_time": "2022-07-20T05:55:08.471828Z"
    }
   },
   "outputs": [],
   "source": []
  },
  {
   "cell_type": "code",
   "execution_count": null,
   "id": "34c4bafe",
   "metadata": {},
   "outputs": [],
   "source": []
  },
  {
   "cell_type": "code",
   "execution_count": null,
   "id": "cfd3b4aa",
   "metadata": {},
   "outputs": [],
   "source": []
  },
  {
   "cell_type": "code",
   "execution_count": null,
   "id": "b13056ad",
   "metadata": {},
   "outputs": [],
   "source": []
  },
  {
   "cell_type": "code",
   "execution_count": null,
   "id": "900699f9",
   "metadata": {},
   "outputs": [],
   "source": []
  }
 ],
 "metadata": {
  "kernelspec": {
   "display_name": "Python 3 (ipykernel)",
   "language": "python",
   "name": "python3"
  },
  "language_info": {
   "codemirror_mode": {
    "name": "ipython",
    "version": 3
   },
   "file_extension": ".py",
   "mimetype": "text/x-python",
   "name": "python",
   "nbconvert_exporter": "python",
   "pygments_lexer": "ipython3",
   "version": "3.9.7"
  }
 },
 "nbformat": 4,
 "nbformat_minor": 5
}
