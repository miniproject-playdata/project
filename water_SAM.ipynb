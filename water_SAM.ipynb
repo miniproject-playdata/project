{
 "cells": [
  {
   "cell_type": "markdown",
   "id": "c0176980",
   "metadata": {},
   "source": [
    "# 데이터셋 가져오기"
   ]
  },
  {
   "cell_type": "code",
   "execution_count": 1,
   "id": "e3d34ee8",
   "metadata": {
    "ExecuteTime": {
     "end_time": "2022-07-20T07:04:17.695048Z",
     "start_time": "2022-07-20T07:04:17.262173Z"
    },
    "scrolled": true
   },
   "outputs": [
    {
     "data": {
      "text/html": [
       "<div>\n",
       "<style scoped>\n",
       "    .dataframe tbody tr th:only-of-type {\n",
       "        vertical-align: middle;\n",
       "    }\n",
       "\n",
       "    .dataframe tbody tr th {\n",
       "        vertical-align: top;\n",
       "    }\n",
       "\n",
       "    .dataframe thead th {\n",
       "        text-align: right;\n",
       "    }\n",
       "</style>\n",
       "<table border=\"1\" class=\"dataframe\">\n",
       "  <thead>\n",
       "    <tr style=\"text-align: right;\">\n",
       "      <th></th>\n",
       "      <th>ph</th>\n",
       "      <th>Hardness</th>\n",
       "      <th>Solids</th>\n",
       "      <th>Chloramines</th>\n",
       "      <th>Sulfate</th>\n",
       "      <th>Conductivity</th>\n",
       "      <th>Organic_carbon</th>\n",
       "      <th>Trihalomethanes</th>\n",
       "      <th>Turbidity</th>\n",
       "      <th>Potability</th>\n",
       "    </tr>\n",
       "  </thead>\n",
       "  <tbody>\n",
       "    <tr>\n",
       "      <th>0</th>\n",
       "      <td>NaN</td>\n",
       "      <td>204.890455</td>\n",
       "      <td>20791.318981</td>\n",
       "      <td>7.300212</td>\n",
       "      <td>368.516441</td>\n",
       "      <td>564.308654</td>\n",
       "      <td>10.379783</td>\n",
       "      <td>86.990970</td>\n",
       "      <td>2.963135</td>\n",
       "      <td>0</td>\n",
       "    </tr>\n",
       "    <tr>\n",
       "      <th>1</th>\n",
       "      <td>3.716080</td>\n",
       "      <td>129.422921</td>\n",
       "      <td>18630.057858</td>\n",
       "      <td>6.635246</td>\n",
       "      <td>NaN</td>\n",
       "      <td>592.885359</td>\n",
       "      <td>15.180013</td>\n",
       "      <td>56.329076</td>\n",
       "      <td>4.500656</td>\n",
       "      <td>0</td>\n",
       "    </tr>\n",
       "    <tr>\n",
       "      <th>2</th>\n",
       "      <td>8.099124</td>\n",
       "      <td>224.236259</td>\n",
       "      <td>19909.541732</td>\n",
       "      <td>9.275884</td>\n",
       "      <td>NaN</td>\n",
       "      <td>418.606213</td>\n",
       "      <td>16.868637</td>\n",
       "      <td>66.420093</td>\n",
       "      <td>3.055934</td>\n",
       "      <td>0</td>\n",
       "    </tr>\n",
       "    <tr>\n",
       "      <th>3</th>\n",
       "      <td>8.316766</td>\n",
       "      <td>214.373394</td>\n",
       "      <td>22018.417441</td>\n",
       "      <td>8.059332</td>\n",
       "      <td>356.886136</td>\n",
       "      <td>363.266516</td>\n",
       "      <td>18.436524</td>\n",
       "      <td>100.341674</td>\n",
       "      <td>4.628771</td>\n",
       "      <td>0</td>\n",
       "    </tr>\n",
       "    <tr>\n",
       "      <th>4</th>\n",
       "      <td>9.092223</td>\n",
       "      <td>181.101509</td>\n",
       "      <td>17978.986339</td>\n",
       "      <td>6.546600</td>\n",
       "      <td>310.135738</td>\n",
       "      <td>398.410813</td>\n",
       "      <td>11.558279</td>\n",
       "      <td>31.997993</td>\n",
       "      <td>4.075075</td>\n",
       "      <td>0</td>\n",
       "    </tr>\n",
       "  </tbody>\n",
       "</table>\n",
       "</div>"
      ],
      "text/plain": [
       "         ph    Hardness        Solids  Chloramines     Sulfate  Conductivity  \\\n",
       "0       NaN  204.890455  20791.318981     7.300212  368.516441    564.308654   \n",
       "1  3.716080  129.422921  18630.057858     6.635246         NaN    592.885359   \n",
       "2  8.099124  224.236259  19909.541732     9.275884         NaN    418.606213   \n",
       "3  8.316766  214.373394  22018.417441     8.059332  356.886136    363.266516   \n",
       "4  9.092223  181.101509  17978.986339     6.546600  310.135738    398.410813   \n",
       "\n",
       "   Organic_carbon  Trihalomethanes  Turbidity  Potability  \n",
       "0       10.379783        86.990970   2.963135           0  \n",
       "1       15.180013        56.329076   4.500656           0  \n",
       "2       16.868637        66.420093   3.055934           0  \n",
       "3       18.436524       100.341674   4.628771           0  \n",
       "4       11.558279        31.997993   4.075075           0  "
      ]
     },
     "execution_count": 1,
     "metadata": {},
     "output_type": "execute_result"
    }
   ],
   "source": [
    "import pandas as pd\n",
    "\n",
    "df = pd.read_csv('water_potability.csv')\n",
    "df.head()"
   ]
  },
  {
   "cell_type": "code",
   "execution_count": 2,
   "id": "720c0520",
   "metadata": {
    "ExecuteTime": {
     "end_time": "2022-07-20T07:04:17.727030Z",
     "start_time": "2022-07-20T07:04:17.698046Z"
    }
   },
   "outputs": [
    {
     "name": "stdout",
     "output_type": "stream",
     "text": [
      "<class 'pandas.core.frame.DataFrame'>\n",
      "RangeIndex: 3276 entries, 0 to 3275\n",
      "Data columns (total 10 columns):\n",
      " #   Column           Non-Null Count  Dtype  \n",
      "---  ------           --------------  -----  \n",
      " 0   ph               2785 non-null   float64\n",
      " 1   Hardness         3276 non-null   float64\n",
      " 2   Solids           3276 non-null   float64\n",
      " 3   Chloramines      3276 non-null   float64\n",
      " 4   Sulfate          2495 non-null   float64\n",
      " 5   Conductivity     3276 non-null   float64\n",
      " 6   Organic_carbon   3276 non-null   float64\n",
      " 7   Trihalomethanes  3114 non-null   float64\n",
      " 8   Turbidity        3276 non-null   float64\n",
      " 9   Potability       3276 non-null   int64  \n",
      "dtypes: float64(9), int64(1)\n",
      "memory usage: 256.1 KB\n"
     ]
    }
   ],
   "source": [
    "df.info()"
   ]
  },
  {
   "cell_type": "code",
   "execution_count": 3,
   "id": "3da0fb97",
   "metadata": {
    "ExecuteTime": {
     "end_time": "2022-07-20T07:04:17.743022Z",
     "start_time": "2022-07-20T07:04:17.730029Z"
    }
   },
   "outputs": [
    {
     "data": {
      "text/plain": [
       "ph                 491\n",
       "Hardness             0\n",
       "Solids               0\n",
       "Chloramines          0\n",
       "Sulfate            781\n",
       "Conductivity         0\n",
       "Organic_carbon       0\n",
       "Trihalomethanes    162\n",
       "Turbidity            0\n",
       "Potability           0\n",
       "dtype: int64"
      ]
     },
     "execution_count": 3,
     "metadata": {},
     "output_type": "execute_result"
    }
   ],
   "source": [
    "df.isnull().sum()"
   ]
  },
  {
   "cell_type": "code",
   "execution_count": 4,
   "id": "88d6d328",
   "metadata": {
    "ExecuteTime": {
     "end_time": "2022-07-20T07:04:17.759013Z",
     "start_time": "2022-07-20T07:04:17.746020Z"
    }
   },
   "outputs": [
    {
     "data": {
      "text/plain": [
       "0    1998\n",
       "1    1278\n",
       "Name: Potability, dtype: int64"
      ]
     },
     "execution_count": 4,
     "metadata": {},
     "output_type": "execute_result"
    }
   ],
   "source": [
    "df['Potability'].value_counts()"
   ]
  },
  {
   "cell_type": "markdown",
   "id": "889c4bda",
   "metadata": {},
   "source": [
    "# 결측치 처리"
   ]
  },
  {
   "cell_type": "code",
   "execution_count": 5,
   "id": "fc996cbf",
   "metadata": {
    "ExecuteTime": {
     "end_time": "2022-07-20T07:04:17.790169Z",
     "start_time": "2022-07-20T07:04:17.762010Z"
    }
   },
   "outputs": [],
   "source": [
    "ph_mean_0 = df[df['Potability'] == 0]['ph'].mean(skipna=True)\n",
    "df.loc[(df['Potability'] == 0) & (df['ph'].isnull()), 'ph'] = ph_mean_0\n",
    "\n",
    "ph_mean_1 = df[df['Potability'] == 1]['ph'].mean(skipna=True)\n",
    "df.loc[(df['Potability'] == 1) & (df['ph'].isnull()), 'ph'] = ph_mean_1\n",
    "\n",
    "sulf_mean_0 = df[df['Potability'] == 0]['Sulfate'].mean(skipna=True)\n",
    "df.loc[(df['Potability'] == 0) & (df['Sulfate'].isnull()), 'Sulfate'] = sulf_mean_0\n",
    "\n",
    "sulf_mean_1 = df[df['Potability'] == 1]['Sulfate'].mean(skipna=True)\n",
    "df.loc[(df['Potability'] == 1) & (df['Sulfate'].isnull()), 'Sulfate'] = sulf_mean_1\n",
    "\n",
    "trih_mean_0 = df[df['Potability'] == 0]['Trihalomethanes'].mean(skipna=True)\n",
    "df.loc[(df['Potability'] == 0) & (df['Trihalomethanes'].isnull()), 'Trihalomethanes'] = trih_mean_0\n",
    "\n",
    "trih_mean_1 = df[df['Potability'] == 1]['Trihalomethanes'].mean(skipna=True)\n",
    "df.loc[(df['Potability'] == 1) & (df['Trihalomethanes'].isnull()), 'Trihalomethanes'] = trih_mean_1"
   ]
  },
  {
   "cell_type": "code",
   "execution_count": 6,
   "id": "0399c014",
   "metadata": {
    "ExecuteTime": {
     "end_time": "2022-07-20T07:04:17.805160Z",
     "start_time": "2022-07-20T07:04:17.794164Z"
    }
   },
   "outputs": [
    {
     "data": {
      "text/plain": [
       "0"
      ]
     },
     "execution_count": 6,
     "metadata": {},
     "output_type": "execute_result"
    }
   ],
   "source": [
    "df['ph'].isnull().sum()"
   ]
  },
  {
   "cell_type": "code",
   "execution_count": 7,
   "id": "bc580e3f",
   "metadata": {
    "ExecuteTime": {
     "end_time": "2022-07-20T07:04:18.740756Z",
     "start_time": "2022-07-20T07:04:17.809156Z"
    }
   },
   "outputs": [],
   "source": [
    "from sklearn.model_selection import train_test_split, GridSearchCV, StratifiedKFold, cross_val_score, RandomizedSearchCV\n",
    "from sklearn.tree import DecisionTreeClassifier\n",
    "from sklearn.ensemble import RandomForestClassifier\n",
    "from sklearn.preprocessing import StandardScaler, MinMaxScaler\n",
    "from sklearn.metrics import (confusion_matrix, classification_report, accuracy_score, precision_score, recall_score, f1_score,\n",
    "roc_auc_score, average_precision_score, precision_recall_curve, roc_curve,\n",
    "ConfusionMatrixDisplay,  PrecisionRecallDisplay, RocCurveDisplay)\n",
    "from sklearn.svm import SVC\n",
    "from sklearn.naive_bayes import GaussianNB\n",
    "from sklearn.neighbors import KNeighborsClassifier"
   ]
  },
  {
   "cell_type": "markdown",
   "id": "709955ad",
   "metadata": {},
   "source": [
    "# 데이터 분리"
   ]
  },
  {
   "cell_type": "code",
   "execution_count": 8,
   "id": "026f4ebf",
   "metadata": {
    "ExecuteTime": {
     "end_time": "2022-07-20T07:04:18.755782Z",
     "start_time": "2022-07-20T07:04:18.743757Z"
    }
   },
   "outputs": [],
   "source": [
    "X = df.drop(columns='Potability')\n",
    "y = df['Potability']\n",
    "\n",
    "X_train, X_test, y_train, y_test = train_test_split(X, y, test_size = 0.3, stratify=y, random_state=0)\n",
    "# X_train, X_val, y_train, y_val = train_test_split(X_train, y_train, test_size = 0.25, stratify=y_train, random_state=0)"
   ]
  },
  {
   "cell_type": "code",
   "execution_count": 9,
   "id": "dbf4b4d2",
   "metadata": {
    "ExecuteTime": {
     "end_time": "2022-07-20T07:04:18.770786Z",
     "start_time": "2022-07-20T07:04:18.757783Z"
    }
   },
   "outputs": [
    {
     "data": {
      "text/plain": [
       "((2293, 9), (983, 9))"
      ]
     },
     "execution_count": 9,
     "metadata": {},
     "output_type": "execute_result"
    }
   ],
   "source": [
    "X_train.shape, X_test.shape"
   ]
  },
  {
   "cell_type": "markdown",
   "id": "0be5e2b0",
   "metadata": {},
   "source": [
    "# Feature Scaling"
   ]
  },
  {
   "cell_type": "code",
   "execution_count": 10,
   "id": "59721ab8",
   "metadata": {
    "ExecuteTime": {
     "end_time": "2022-07-20T07:04:18.785768Z",
     "start_time": "2022-07-20T07:04:18.776783Z"
    },
    "scrolled": true
   },
   "outputs": [],
   "source": [
    "sc = StandardScaler()\n",
    "X_train = sc.fit_transform(X_train)\n",
    "# X_val = sc.transform(X_val)\n",
    "X_test = sc.transform(X_test)"
   ]
  },
  {
   "cell_type": "markdown",
   "id": "54925f1c",
   "metadata": {},
   "source": [
    "# 최적 파라미터"
   ]
  },
  {
   "cell_type": "markdown",
   "id": "56d13191",
   "metadata": {},
   "source": [
    "## RandomizedSearchCV"
   ]
  },
  {
   "cell_type": "code",
   "execution_count": 31,
   "id": "98f358ea",
   "metadata": {
    "ExecuteTime": {
     "end_time": "2022-07-20T07:06:44.320878Z",
     "start_time": "2022-07-20T07:06:44.313892Z"
    }
   },
   "outputs": [],
   "source": [
    "params = {\n",
    "    \"n_estimators\":range(100,1001,100), \n",
    "    'max_depth':range(1,11),\n",
    "    'max_features':range(5, 10)\n",
    "}\n",
    "\n",
    "rfc = RandomForestClassifier(random_state=0, class_weight='balanced')\n",
    "rs = RandomizedSearchCV(rfc, \n",
    "                        params, \n",
    "                        scoring='accuracy',\n",
    "                        cv=5, \n",
    "                        n_jobs=-1,\n",
    "                        n_iter=60)"
   ]
  },
  {
   "cell_type": "code",
   "execution_count": 32,
   "id": "92b6ea4d",
   "metadata": {
    "ExecuteTime": {
     "end_time": "2022-07-20T07:09:38.977592Z",
     "start_time": "2022-07-20T07:06:44.322878Z"
    }
   },
   "outputs": [
    {
     "data": {
      "text/html": [
       "<style>#sk-container-id-3 {color: black;background-color: white;}#sk-container-id-3 pre{padding: 0;}#sk-container-id-3 div.sk-toggleable {background-color: white;}#sk-container-id-3 label.sk-toggleable__label {cursor: pointer;display: block;width: 100%;margin-bottom: 0;padding: 0.3em;box-sizing: border-box;text-align: center;}#sk-container-id-3 label.sk-toggleable__label-arrow:before {content: \"▸\";float: left;margin-right: 0.25em;color: #696969;}#sk-container-id-3 label.sk-toggleable__label-arrow:hover:before {color: black;}#sk-container-id-3 div.sk-estimator:hover label.sk-toggleable__label-arrow:before {color: black;}#sk-container-id-3 div.sk-toggleable__content {max-height: 0;max-width: 0;overflow: hidden;text-align: left;background-color: #f0f8ff;}#sk-container-id-3 div.sk-toggleable__content pre {margin: 0.2em;color: black;border-radius: 0.25em;background-color: #f0f8ff;}#sk-container-id-3 input.sk-toggleable__control:checked~div.sk-toggleable__content {max-height: 200px;max-width: 100%;overflow: auto;}#sk-container-id-3 input.sk-toggleable__control:checked~label.sk-toggleable__label-arrow:before {content: \"▾\";}#sk-container-id-3 div.sk-estimator input.sk-toggleable__control:checked~label.sk-toggleable__label {background-color: #d4ebff;}#sk-container-id-3 div.sk-label input.sk-toggleable__control:checked~label.sk-toggleable__label {background-color: #d4ebff;}#sk-container-id-3 input.sk-hidden--visually {border: 0;clip: rect(1px 1px 1px 1px);clip: rect(1px, 1px, 1px, 1px);height: 1px;margin: -1px;overflow: hidden;padding: 0;position: absolute;width: 1px;}#sk-container-id-3 div.sk-estimator {font-family: monospace;background-color: #f0f8ff;border: 1px dotted black;border-radius: 0.25em;box-sizing: border-box;margin-bottom: 0.5em;}#sk-container-id-3 div.sk-estimator:hover {background-color: #d4ebff;}#sk-container-id-3 div.sk-parallel-item::after {content: \"\";width: 100%;border-bottom: 1px solid gray;flex-grow: 1;}#sk-container-id-3 div.sk-label:hover label.sk-toggleable__label {background-color: #d4ebff;}#sk-container-id-3 div.sk-serial::before {content: \"\";position: absolute;border-left: 1px solid gray;box-sizing: border-box;top: 0;bottom: 0;left: 50%;z-index: 0;}#sk-container-id-3 div.sk-serial {display: flex;flex-direction: column;align-items: center;background-color: white;padding-right: 0.2em;padding-left: 0.2em;position: relative;}#sk-container-id-3 div.sk-item {position: relative;z-index: 1;}#sk-container-id-3 div.sk-parallel {display: flex;align-items: stretch;justify-content: center;background-color: white;position: relative;}#sk-container-id-3 div.sk-item::before, #sk-container-id-3 div.sk-parallel-item::before {content: \"\";position: absolute;border-left: 1px solid gray;box-sizing: border-box;top: 0;bottom: 0;left: 50%;z-index: -1;}#sk-container-id-3 div.sk-parallel-item {display: flex;flex-direction: column;z-index: 1;position: relative;background-color: white;}#sk-container-id-3 div.sk-parallel-item:first-child::after {align-self: flex-end;width: 50%;}#sk-container-id-3 div.sk-parallel-item:last-child::after {align-self: flex-start;width: 50%;}#sk-container-id-3 div.sk-parallel-item:only-child::after {width: 0;}#sk-container-id-3 div.sk-dashed-wrapped {border: 1px dashed gray;margin: 0 0.4em 0.5em 0.4em;box-sizing: border-box;padding-bottom: 0.4em;background-color: white;}#sk-container-id-3 div.sk-label label {font-family: monospace;font-weight: bold;display: inline-block;line-height: 1.2em;}#sk-container-id-3 div.sk-label-container {text-align: center;}#sk-container-id-3 div.sk-container {/* jupyter's `normalize.less` sets `[hidden] { display: none; }` but bootstrap.min.css set `[hidden] { display: none !important; }` so we also need the `!important` here to be able to override the default hidden behavior on the sphinx rendered scikit-learn.org. See: https://github.com/scikit-learn/scikit-learn/issues/21755 */display: inline-block !important;position: relative;}#sk-container-id-3 div.sk-text-repr-fallback {display: none;}</style><div id=\"sk-container-id-3\" class=\"sk-top-container\"><div class=\"sk-text-repr-fallback\"><pre>RandomizedSearchCV(cv=5,\n",
       "                   estimator=RandomForestClassifier(class_weight=&#x27;balanced&#x27;,\n",
       "                                                    random_state=0),\n",
       "                   n_iter=60, n_jobs=-1,\n",
       "                   param_distributions={&#x27;max_depth&#x27;: range(1, 11),\n",
       "                                        &#x27;max_features&#x27;: range(5, 10),\n",
       "                                        &#x27;n_estimators&#x27;: range(100, 1001, 100)},\n",
       "                   scoring=&#x27;accuracy&#x27;)</pre><b>In a Jupyter environment, please rerun this cell to show the HTML representation or trust the notebook. <br />On GitHub, the HTML representation is unable to render, please try loading this page with nbviewer.org.</b></div><div class=\"sk-container\" hidden><div class=\"sk-item sk-dashed-wrapped\"><div class=\"sk-label-container\"><div class=\"sk-label sk-toggleable\"><input class=\"sk-toggleable__control sk-hidden--visually\" id=\"sk-estimator-id-5\" type=\"checkbox\" ><label for=\"sk-estimator-id-5\" class=\"sk-toggleable__label sk-toggleable__label-arrow\">RandomizedSearchCV</label><div class=\"sk-toggleable__content\"><pre>RandomizedSearchCV(cv=5,\n",
       "                   estimator=RandomForestClassifier(class_weight=&#x27;balanced&#x27;,\n",
       "                                                    random_state=0),\n",
       "                   n_iter=60, n_jobs=-1,\n",
       "                   param_distributions={&#x27;max_depth&#x27;: range(1, 11),\n",
       "                                        &#x27;max_features&#x27;: range(5, 10),\n",
       "                                        &#x27;n_estimators&#x27;: range(100, 1001, 100)},\n",
       "                   scoring=&#x27;accuracy&#x27;)</pre></div></div></div><div class=\"sk-parallel\"><div class=\"sk-parallel-item\"><div class=\"sk-item\"><div class=\"sk-label-container\"><div class=\"sk-label sk-toggleable\"><input class=\"sk-toggleable__control sk-hidden--visually\" id=\"sk-estimator-id-6\" type=\"checkbox\" ><label for=\"sk-estimator-id-6\" class=\"sk-toggleable__label sk-toggleable__label-arrow\">estimator: RandomForestClassifier</label><div class=\"sk-toggleable__content\"><pre>RandomForestClassifier(class_weight=&#x27;balanced&#x27;, random_state=0)</pre></div></div></div><div class=\"sk-serial\"><div class=\"sk-item\"><div class=\"sk-estimator sk-toggleable\"><input class=\"sk-toggleable__control sk-hidden--visually\" id=\"sk-estimator-id-7\" type=\"checkbox\" ><label for=\"sk-estimator-id-7\" class=\"sk-toggleable__label sk-toggleable__label-arrow\">RandomForestClassifier</label><div class=\"sk-toggleable__content\"><pre>RandomForestClassifier(class_weight=&#x27;balanced&#x27;, random_state=0)</pre></div></div></div></div></div></div></div></div></div></div>"
      ],
      "text/plain": [
       "RandomizedSearchCV(cv=5,\n",
       "                   estimator=RandomForestClassifier(class_weight='balanced',\n",
       "                                                    random_state=0),\n",
       "                   n_iter=60, n_jobs=-1,\n",
       "                   param_distributions={'max_depth': range(1, 11),\n",
       "                                        'max_features': range(5, 10),\n",
       "                                        'n_estimators': range(100, 1001, 100)},\n",
       "                   scoring='accuracy')"
      ]
     },
     "execution_count": 32,
     "metadata": {},
     "output_type": "execute_result"
    }
   ],
   "source": [
    "rs.fit(X_train, y_train)"
   ]
  },
  {
   "cell_type": "code",
   "execution_count": 33,
   "id": "e1639563",
   "metadata": {
    "ExecuteTime": {
     "end_time": "2022-07-20T07:09:38.993583Z",
     "start_time": "2022-07-20T07:09:38.980582Z"
    }
   },
   "outputs": [
    {
     "data": {
      "text/plain": [
       "0.7819390929588721"
      ]
     },
     "execution_count": 33,
     "metadata": {},
     "output_type": "execute_result"
    }
   ],
   "source": [
    "rs.best_score_"
   ]
  },
  {
   "cell_type": "code",
   "execution_count": 34,
   "id": "8281f4e8",
   "metadata": {
    "ExecuteTime": {
     "end_time": "2022-07-20T07:09:39.008566Z",
     "start_time": "2022-07-20T07:09:38.997572Z"
    }
   },
   "outputs": [
    {
     "data": {
      "text/plain": [
       "{'n_estimators': 800, 'max_features': 5, 'max_depth': 10}"
      ]
     },
     "execution_count": 34,
     "metadata": {},
     "output_type": "execute_result"
    }
   ],
   "source": [
    "rs.best_params_"
   ]
  },
  {
   "cell_type": "code",
   "execution_count": 35,
   "id": "9035ad82",
   "metadata": {
    "ExecuteTime": {
     "end_time": "2022-07-20T07:09:39.039549Z",
     "start_time": "2022-07-20T07:09:39.011564Z"
    }
   },
   "outputs": [
    {
     "data": {
      "text/html": [
       "<div>\n",
       "<style scoped>\n",
       "    .dataframe tbody tr th:only-of-type {\n",
       "        vertical-align: middle;\n",
       "    }\n",
       "\n",
       "    .dataframe tbody tr th {\n",
       "        vertical-align: top;\n",
       "    }\n",
       "\n",
       "    .dataframe thead th {\n",
       "        text-align: right;\n",
       "    }\n",
       "</style>\n",
       "<table border=\"1\" class=\"dataframe\">\n",
       "  <thead>\n",
       "    <tr style=\"text-align: right;\">\n",
       "      <th></th>\n",
       "      <th>mean_fit_time</th>\n",
       "      <th>std_fit_time</th>\n",
       "      <th>mean_score_time</th>\n",
       "      <th>std_score_time</th>\n",
       "      <th>param_n_estimators</th>\n",
       "      <th>param_max_features</th>\n",
       "      <th>param_max_depth</th>\n",
       "      <th>params</th>\n",
       "      <th>split0_test_score</th>\n",
       "      <th>split1_test_score</th>\n",
       "      <th>split2_test_score</th>\n",
       "      <th>split3_test_score</th>\n",
       "      <th>split4_test_score</th>\n",
       "      <th>mean_test_score</th>\n",
       "      <th>std_test_score</th>\n",
       "      <th>rank_test_score</th>\n",
       "    </tr>\n",
       "  </thead>\n",
       "  <tbody>\n",
       "    <tr>\n",
       "      <th>38</th>\n",
       "      <td>4.065191</td>\n",
       "      <td>0.077950</td>\n",
       "      <td>0.115212</td>\n",
       "      <td>0.013194</td>\n",
       "      <td>800</td>\n",
       "      <td>5</td>\n",
       "      <td>10</td>\n",
       "      <td>{'n_estimators': 800, 'max_features': 5, 'max_...</td>\n",
       "      <td>0.784314</td>\n",
       "      <td>0.777778</td>\n",
       "      <td>0.797386</td>\n",
       "      <td>0.768559</td>\n",
       "      <td>0.781659</td>\n",
       "      <td>0.781939</td>\n",
       "      <td>0.009388</td>\n",
       "      <td>1</td>\n",
       "    </tr>\n",
       "    <tr>\n",
       "      <th>55</th>\n",
       "      <td>4.475528</td>\n",
       "      <td>0.110573</td>\n",
       "      <td>0.121185</td>\n",
       "      <td>0.000747</td>\n",
       "      <td>900</td>\n",
       "      <td>5</td>\n",
       "      <td>10</td>\n",
       "      <td>{'n_estimators': 900, 'max_features': 5, 'max_...</td>\n",
       "      <td>0.779956</td>\n",
       "      <td>0.777778</td>\n",
       "      <td>0.806100</td>\n",
       "      <td>0.764192</td>\n",
       "      <td>0.781659</td>\n",
       "      <td>0.781937</td>\n",
       "      <td>0.013565</td>\n",
       "      <td>2</td>\n",
       "    </tr>\n",
       "    <tr>\n",
       "      <th>6</th>\n",
       "      <td>5.458357</td>\n",
       "      <td>0.135284</td>\n",
       "      <td>0.132386</td>\n",
       "      <td>0.004215</td>\n",
       "      <td>1000</td>\n",
       "      <td>6</td>\n",
       "      <td>10</td>\n",
       "      <td>{'n_estimators': 1000, 'max_features': 6, 'max...</td>\n",
       "      <td>0.771242</td>\n",
       "      <td>0.782135</td>\n",
       "      <td>0.799564</td>\n",
       "      <td>0.766376</td>\n",
       "      <td>0.781659</td>\n",
       "      <td>0.780195</td>\n",
       "      <td>0.011421</td>\n",
       "      <td>3</td>\n",
       "    </tr>\n",
       "    <tr>\n",
       "      <th>1</th>\n",
       "      <td>2.764798</td>\n",
       "      <td>0.119706</td>\n",
       "      <td>0.065223</td>\n",
       "      <td>0.002495</td>\n",
       "      <td>500</td>\n",
       "      <td>6</td>\n",
       "      <td>9</td>\n",
       "      <td>{'n_estimators': 500, 'max_features': 6, 'max_...</td>\n",
       "      <td>0.769063</td>\n",
       "      <td>0.769063</td>\n",
       "      <td>0.801743</td>\n",
       "      <td>0.757642</td>\n",
       "      <td>0.781659</td>\n",
       "      <td>0.775834</td>\n",
       "      <td>0.015019</td>\n",
       "      <td>4</td>\n",
       "    </tr>\n",
       "    <tr>\n",
       "      <th>29</th>\n",
       "      <td>3.083998</td>\n",
       "      <td>0.100554</td>\n",
       "      <td>0.065998</td>\n",
       "      <td>0.000892</td>\n",
       "      <td>500</td>\n",
       "      <td>7</td>\n",
       "      <td>10</td>\n",
       "      <td>{'n_estimators': 500, 'max_features': 7, 'max_...</td>\n",
       "      <td>0.762527</td>\n",
       "      <td>0.779956</td>\n",
       "      <td>0.790850</td>\n",
       "      <td>0.762009</td>\n",
       "      <td>0.779476</td>\n",
       "      <td>0.774964</td>\n",
       "      <td>0.011137</td>\n",
       "      <td>5</td>\n",
       "    </tr>\n",
       "  </tbody>\n",
       "</table>\n",
       "</div>"
      ],
      "text/plain": [
       "    mean_fit_time  std_fit_time  mean_score_time  std_score_time  \\\n",
       "38       4.065191      0.077950         0.115212        0.013194   \n",
       "55       4.475528      0.110573         0.121185        0.000747   \n",
       "6        5.458357      0.135284         0.132386        0.004215   \n",
       "1        2.764798      0.119706         0.065223        0.002495   \n",
       "29       3.083998      0.100554         0.065998        0.000892   \n",
       "\n",
       "   param_n_estimators param_max_features param_max_depth  \\\n",
       "38                800                  5              10   \n",
       "55                900                  5              10   \n",
       "6                1000                  6              10   \n",
       "1                 500                  6               9   \n",
       "29                500                  7              10   \n",
       "\n",
       "                                               params  split0_test_score  \\\n",
       "38  {'n_estimators': 800, 'max_features': 5, 'max_...           0.784314   \n",
       "55  {'n_estimators': 900, 'max_features': 5, 'max_...           0.779956   \n",
       "6   {'n_estimators': 1000, 'max_features': 6, 'max...           0.771242   \n",
       "1   {'n_estimators': 500, 'max_features': 6, 'max_...           0.769063   \n",
       "29  {'n_estimators': 500, 'max_features': 7, 'max_...           0.762527   \n",
       "\n",
       "    split1_test_score  split2_test_score  split3_test_score  \\\n",
       "38           0.777778           0.797386           0.768559   \n",
       "55           0.777778           0.806100           0.764192   \n",
       "6            0.782135           0.799564           0.766376   \n",
       "1            0.769063           0.801743           0.757642   \n",
       "29           0.779956           0.790850           0.762009   \n",
       "\n",
       "    split4_test_score  mean_test_score  std_test_score  rank_test_score  \n",
       "38           0.781659         0.781939        0.009388                1  \n",
       "55           0.781659         0.781937        0.013565                2  \n",
       "6            0.781659         0.780195        0.011421                3  \n",
       "1            0.781659         0.775834        0.015019                4  \n",
       "29           0.779476         0.774964        0.011137                5  "
      ]
     },
     "execution_count": 35,
     "metadata": {},
     "output_type": "execute_result"
    }
   ],
   "source": [
    "df_result = pd.DataFrame(rs.cv_results_).sort_values('rank_test_score')\n",
    "df_result.head()"
   ]
  },
  {
   "cell_type": "code",
   "execution_count": 36,
   "id": "302d33e1",
   "metadata": {
    "ExecuteTime": {
     "end_time": "2022-07-20T07:09:39.055539Z",
     "start_time": "2022-07-20T07:09:39.041547Z"
    }
   },
   "outputs": [
    {
     "data": {
      "text/html": [
       "<style>#sk-container-id-4 {color: black;background-color: white;}#sk-container-id-4 pre{padding: 0;}#sk-container-id-4 div.sk-toggleable {background-color: white;}#sk-container-id-4 label.sk-toggleable__label {cursor: pointer;display: block;width: 100%;margin-bottom: 0;padding: 0.3em;box-sizing: border-box;text-align: center;}#sk-container-id-4 label.sk-toggleable__label-arrow:before {content: \"▸\";float: left;margin-right: 0.25em;color: #696969;}#sk-container-id-4 label.sk-toggleable__label-arrow:hover:before {color: black;}#sk-container-id-4 div.sk-estimator:hover label.sk-toggleable__label-arrow:before {color: black;}#sk-container-id-4 div.sk-toggleable__content {max-height: 0;max-width: 0;overflow: hidden;text-align: left;background-color: #f0f8ff;}#sk-container-id-4 div.sk-toggleable__content pre {margin: 0.2em;color: black;border-radius: 0.25em;background-color: #f0f8ff;}#sk-container-id-4 input.sk-toggleable__control:checked~div.sk-toggleable__content {max-height: 200px;max-width: 100%;overflow: auto;}#sk-container-id-4 input.sk-toggleable__control:checked~label.sk-toggleable__label-arrow:before {content: \"▾\";}#sk-container-id-4 div.sk-estimator input.sk-toggleable__control:checked~label.sk-toggleable__label {background-color: #d4ebff;}#sk-container-id-4 div.sk-label input.sk-toggleable__control:checked~label.sk-toggleable__label {background-color: #d4ebff;}#sk-container-id-4 input.sk-hidden--visually {border: 0;clip: rect(1px 1px 1px 1px);clip: rect(1px, 1px, 1px, 1px);height: 1px;margin: -1px;overflow: hidden;padding: 0;position: absolute;width: 1px;}#sk-container-id-4 div.sk-estimator {font-family: monospace;background-color: #f0f8ff;border: 1px dotted black;border-radius: 0.25em;box-sizing: border-box;margin-bottom: 0.5em;}#sk-container-id-4 div.sk-estimator:hover {background-color: #d4ebff;}#sk-container-id-4 div.sk-parallel-item::after {content: \"\";width: 100%;border-bottom: 1px solid gray;flex-grow: 1;}#sk-container-id-4 div.sk-label:hover label.sk-toggleable__label {background-color: #d4ebff;}#sk-container-id-4 div.sk-serial::before {content: \"\";position: absolute;border-left: 1px solid gray;box-sizing: border-box;top: 0;bottom: 0;left: 50%;z-index: 0;}#sk-container-id-4 div.sk-serial {display: flex;flex-direction: column;align-items: center;background-color: white;padding-right: 0.2em;padding-left: 0.2em;position: relative;}#sk-container-id-4 div.sk-item {position: relative;z-index: 1;}#sk-container-id-4 div.sk-parallel {display: flex;align-items: stretch;justify-content: center;background-color: white;position: relative;}#sk-container-id-4 div.sk-item::before, #sk-container-id-4 div.sk-parallel-item::before {content: \"\";position: absolute;border-left: 1px solid gray;box-sizing: border-box;top: 0;bottom: 0;left: 50%;z-index: -1;}#sk-container-id-4 div.sk-parallel-item {display: flex;flex-direction: column;z-index: 1;position: relative;background-color: white;}#sk-container-id-4 div.sk-parallel-item:first-child::after {align-self: flex-end;width: 50%;}#sk-container-id-4 div.sk-parallel-item:last-child::after {align-self: flex-start;width: 50%;}#sk-container-id-4 div.sk-parallel-item:only-child::after {width: 0;}#sk-container-id-4 div.sk-dashed-wrapped {border: 1px dashed gray;margin: 0 0.4em 0.5em 0.4em;box-sizing: border-box;padding-bottom: 0.4em;background-color: white;}#sk-container-id-4 div.sk-label label {font-family: monospace;font-weight: bold;display: inline-block;line-height: 1.2em;}#sk-container-id-4 div.sk-label-container {text-align: center;}#sk-container-id-4 div.sk-container {/* jupyter's `normalize.less` sets `[hidden] { display: none; }` but bootstrap.min.css set `[hidden] { display: none !important; }` so we also need the `!important` here to be able to override the default hidden behavior on the sphinx rendered scikit-learn.org. See: https://github.com/scikit-learn/scikit-learn/issues/21755 */display: inline-block !important;position: relative;}#sk-container-id-4 div.sk-text-repr-fallback {display: none;}</style><div id=\"sk-container-id-4\" class=\"sk-top-container\"><div class=\"sk-text-repr-fallback\"><pre>RandomForestClassifier(class_weight=&#x27;balanced&#x27;, max_depth=10, max_features=5,\n",
       "                       n_estimators=800, random_state=0)</pre><b>In a Jupyter environment, please rerun this cell to show the HTML representation or trust the notebook. <br />On GitHub, the HTML representation is unable to render, please try loading this page with nbviewer.org.</b></div><div class=\"sk-container\" hidden><div class=\"sk-item\"><div class=\"sk-estimator sk-toggleable\"><input class=\"sk-toggleable__control sk-hidden--visually\" id=\"sk-estimator-id-8\" type=\"checkbox\" checked><label for=\"sk-estimator-id-8\" class=\"sk-toggleable__label sk-toggleable__label-arrow\">RandomForestClassifier</label><div class=\"sk-toggleable__content\"><pre>RandomForestClassifier(class_weight=&#x27;balanced&#x27;, max_depth=10, max_features=5,\n",
       "                       n_estimators=800, random_state=0)</pre></div></div></div></div></div>"
      ],
      "text/plain": [
       "RandomForestClassifier(class_weight='balanced', max_depth=10, max_features=5,\n",
       "                       n_estimators=800, random_state=0)"
      ]
     },
     "execution_count": 36,
     "metadata": {},
     "output_type": "execute_result"
    }
   ],
   "source": [
    "best_model = rs.best_estimator_\n",
    "best_model"
   ]
  },
  {
   "cell_type": "code",
   "execution_count": 37,
   "id": "eb05b8f0",
   "metadata": {
    "ExecuteTime": {
     "end_time": "2022-07-20T07:09:39.257438Z",
     "start_time": "2022-07-20T07:09:39.057538Z"
    },
    "scrolled": false
   },
   "outputs": [
    {
     "data": {
      "text/plain": [
       "0.7965412004069176"
      ]
     },
     "execution_count": 37,
     "metadata": {},
     "output_type": "execute_result"
    }
   ],
   "source": [
    "accuracy_score(y_test, best_model.predict(X_test))"
   ]
  },
  {
   "cell_type": "code",
   "execution_count": null,
   "id": "f4303118",
   "metadata": {},
   "outputs": [],
   "source": []
  },
  {
   "cell_type": "code",
   "execution_count": 38,
   "id": "bd70c3eb",
   "metadata": {
    "ExecuteTime": {
     "end_time": "2022-07-20T07:09:39.437768Z",
     "start_time": "2022-07-20T07:09:39.259423Z"
    },
    "scrolled": true
   },
   "outputs": [
    {
     "name": "stdout",
     "output_type": "stream",
     "text": [
      "==================================================\n",
      "Best Model Test\n",
      "--------------------------------------------------\n",
      "정확도(Accuracy): 0.7965412004069176\n",
      "재현율/민감도(Recall): 0.6710182767624021\n",
      "정밀도(Precision): 0.7764350453172205\n",
      "F1 점수(F1 score): 0.7198879551820729\n",
      "==================================================\n"
     ]
    }
   ],
   "source": [
    "def print_classification_metrics(y, pred, title=None):\n",
    "    \"\"\"\n",
    "    인수로 받은 정답(y), 모델 예측값(pred)를 이용해 분류의 평가지표들을 출력\n",
    "    출력할 평가지표 : accuracy, recall, precision, f1 score\n",
    "    [parameter]\n",
    "        y : ndarray - 정답(Ground Truth)\n",
    "        pred : ndarray - 모델이 예측한 값\n",
    "        title : str - 출력 결과들에 대한 제목\n",
    "    [Return]\n",
    "    [Exception]\n",
    "    \"\"\"\n",
    "    print('='*50)\n",
    "    if title:\n",
    "        print(title)\n",
    "        print('-'*50)\n",
    "        print('정확도(Accuracy):', accuracy_score(y, pred))\n",
    "        print('재현율/민감도(Recall):', recall_score(y, pred))\n",
    "        print('정밀도(Precision):', precision_score(y, pred))\n",
    "        print('F1 점수(F1 score):', f1_score(y, pred))\n",
    "        print('='*50)\n",
    "        \n",
    "print_classification_metrics(y_test, best_model.predict(X_test), title='Best Model Test')"
   ]
  },
  {
   "cell_type": "code",
   "execution_count": 39,
   "id": "cef5f6f1",
   "metadata": {
    "ExecuteTime": {
     "end_time": "2022-07-20T07:09:39.514748Z",
     "start_time": "2022-07-20T07:09:39.440768Z"
    }
   },
   "outputs": [
    {
     "data": {
      "text/plain": [
       "array([0.21493397, 0.07343884, 0.07430702, 0.07772192, 0.37523612,\n",
       "       0.04380823, 0.04706466, 0.05039413, 0.0430951 ])"
      ]
     },
     "execution_count": 39,
     "metadata": {},
     "output_type": "execute_result"
    }
   ],
   "source": [
    "fi_rs = best_model.feature_importances_\n",
    "fi_rs"
   ]
  },
  {
   "cell_type": "code",
   "execution_count": 40,
   "id": "31d0304d",
   "metadata": {
    "ExecuteTime": {
     "end_time": "2022-07-20T07:09:39.529752Z",
     "start_time": "2022-07-20T07:09:39.518744Z"
    }
   },
   "outputs": [
    {
     "data": {
      "text/plain": [
       "ph                 0.214934\n",
       "Hardness           0.073439\n",
       "Solids             0.074307\n",
       "Chloramines        0.077722\n",
       "Sulfate            0.375236\n",
       "Conductivity       0.043808\n",
       "Organic_carbon     0.047065\n",
       "Trihalomethanes    0.050394\n",
       "Turbidity          0.043095\n",
       "dtype: float64"
      ]
     },
     "execution_count": 40,
     "metadata": {},
     "output_type": "execute_result"
    }
   ],
   "source": [
    "fi_rs_s = pd.Series(fi_rs, index = X.columns)\n",
    "fi_rs_s"
   ]
  },
  {
   "cell_type": "code",
   "execution_count": 41,
   "id": "d133b79a",
   "metadata": {
    "ExecuteTime": {
     "end_time": "2022-07-20T07:09:39.665839Z",
     "start_time": "2022-07-20T07:09:39.532737Z"
    }
   },
   "outputs": [
    {
     "data": {
      "text/plain": [
       "<AxesSubplot:>"
      ]
     },
     "execution_count": 41,
     "metadata": {},
     "output_type": "execute_result"
    },
    {
     "data": {
      "image/png": "[encoded data removed]",
      "text/plain": [
       "<Figure size 576x432 with 1 Axes>"
      ]
     },
     "metadata": {
      "needs_background": "light"
     },
     "output_type": "display_data"
    }
   ],
   "source": [
    "fi_rs_s.sort_values().plot(kind='barh', figsize=(8,6))"
   ]
  },
  {
   "cell_type": "code",
   "execution_count": 42,
   "id": "8ab25ae2",
   "metadata": {
    "ExecuteTime": {
     "end_time": "2022-07-20T07:09:40.460918Z",
     "start_time": "2022-07-20T07:09:39.667829Z"
    }
   },
   "outputs": [],
   "source": [
    "pred_train = best_model.predict(X_train)\n",
    "pred_test = best_model.predict(X_test)\n",
    "\n",
    "pred_train_proba = best_model.predict_proba(X_train)[:, 1]\n",
    "pred_test_proba = best_model.predict_proba(X_test)[:, 1]"
   ]
  },
  {
   "cell_type": "code",
   "execution_count": 43,
   "id": "55df8942",
   "metadata": {
    "ExecuteTime": {
     "end_time": "2022-07-20T07:09:40.475838Z",
     "start_time": "2022-07-20T07:09:40.462812Z"
    }
   },
   "outputs": [],
   "source": [
    "cm_train = confusion_matrix(y_train, pred_train)\n",
    "cm_test = confusion_matrix(y_test, pred_test)"
   ]
  },
  {
   "cell_type": "code",
   "execution_count": 44,
   "id": "6de14df5",
   "metadata": {
    "ExecuteTime": {
     "end_time": "2022-07-20T07:09:40.732670Z",
     "start_time": "2022-07-20T07:09:40.477787Z"
    }
   },
   "outputs": [
    {
     "data": {
      "image/png": "[encoded data removed]",
      "text/plain": [
       "<Figure size 1080x504 with 4 Axes>"
      ]
     },
     "metadata": {
      "needs_background": "light"
     },
     "output_type": "display_data"
    }
   ],
   "source": [
    "import matplotlib.pyplot as plt\n",
    "fig, axes = plt.subplots(1,2, figsize=(15,7))\n",
    "plt.suptitle('RandomForest 모델 Confusion Matrix', fontsize=30)\n",
    "\n",
    "disp1 = ConfusionMatrixDisplay(cm_train, display_labels=['음성', '양성'])\n",
    "disp1.plot(cmap='Blues', ax=axes[0])\n",
    "axes[0].set_title('Train set') \n",
    "\n",
    "disp2 = ConfusionMatrixDisplay(cm_test, display_labels=['음성', '양성'])\n",
    "disp1.plot(cmap='Blues', ax=axes[1])\n",
    "axes[1].set_title('Test set')\n",
    "plt.show()"
   ]
  },
  {
   "cell_type": "code",
   "execution_count": 45,
   "id": "41b53018",
   "metadata": {
    "ExecuteTime": {
     "end_time": "2022-07-20T07:09:40.748074Z",
     "start_time": "2022-07-20T07:09:40.734659Z"
    }
   },
   "outputs": [
    {
     "name": "stdout",
     "output_type": "stream",
     "text": [
      "0.9968849742869812 0.850145055698502\n"
     ]
    }
   ],
   "source": [
    "ap_train = average_precision_score(y_train, pred_train_proba)\n",
    "ap_test = average_precision_score(y_test, pred_test_proba)\n",
    "print(ap_train, ap_test)"
   ]
  },
  {
   "cell_type": "code",
   "execution_count": 46,
   "id": "52cadd3c",
   "metadata": {
    "ExecuteTime": {
     "end_time": "2022-07-20T07:09:40.763279Z",
     "start_time": "2022-07-20T07:09:40.750047Z"
    }
   },
   "outputs": [],
   "source": [
    "precision_train, recall_train, _ = precision_recall_curve(y_train, pred_train_proba)\n",
    "precision_test, recall_test, _ = precision_recall_curve(y_test, pred_test_proba)"
   ]
  },
  {
   "cell_type": "code",
   "execution_count": 47,
   "id": "5afecf0b",
   "metadata": {
    "ExecuteTime": {
     "end_time": "2022-07-20T07:09:41.003112Z",
     "start_time": "2022-07-20T07:09:40.765281Z"
    }
   },
   "outputs": [
    {
     "data": {
      "image/png": "[encoded data removed]",
      "text/plain": [
       "<Figure size 1080x504 with 2 Axes>"
      ]
     },
     "metadata": {
      "needs_background": "light"
     },
     "output_type": "display_data"
    }
   ],
   "source": [
    "fig, axes = plt.subplots(1,2, figsize=(15,7))\n",
    "fig.suptitle('Tree Precision Recall Curve', fontsize=30)\n",
    "\n",
    "disp_pr1 = PrecisionRecallDisplay(precision_train, recall_train, average_precision=ap_train, estimator_name='RandomForest')\n",
    "disp_pr1.plot(ax=axes[0])\n",
    "axes[0].set_title('Train set')\n",
    "\n",
    "disp_pr2 = PrecisionRecallDisplay(precision_test, recall_test, average_precision=ap_test)\n",
    "disp_pr2.plot(ax=axes[1])\n",
    "axes[1].set_title('Test set')\n",
    "\n",
    "plt.tight_layout()\n",
    "plt.show()"
   ]
  },
  {
   "cell_type": "code",
   "execution_count": null,
   "id": "0499b997",
   "metadata": {},
   "outputs": [],
   "source": []
  },
  {
   "cell_type": "code",
   "execution_count": 48,
   "id": "6c96c315",
   "metadata": {
    "ExecuteTime": {
     "end_time": "2022-07-20T07:09:41.018103Z",
     "start_time": "2022-07-20T07:09:41.005095Z"
    },
    "scrolled": true
   },
   "outputs": [
    {
     "name": "stdout",
     "output_type": "stream",
     "text": [
      "0.9980139225229978 0.8826936466492602\n"
     ]
    }
   ],
   "source": [
    "auc_train = roc_auc_score(y_train, pred_train_proba)\n",
    "auc_test = roc_auc_score(y_test, pred_test_proba)\n",
    "\n",
    "print(auc_train, auc_test)"
   ]
  },
  {
   "cell_type": "code",
   "execution_count": 49,
   "id": "9e942480",
   "metadata": {
    "ExecuteTime": {
     "end_time": "2022-07-20T07:09:41.034078Z",
     "start_time": "2022-07-20T07:09:41.021086Z"
    }
   },
   "outputs": [],
   "source": [
    "fpr_train, tpr_train, _ = roc_curve(y_train, pred_train_proba)\n",
    "fpr_test, tpr_test, _ = roc_curve(y_test, pred_test_proba)"
   ]
  },
  {
   "cell_type": "code",
   "execution_count": 50,
   "id": "a44b0c7e",
   "metadata": {
    "ExecuteTime": {
     "end_time": "2022-07-20T07:09:41.244959Z",
     "start_time": "2022-07-20T07:09:41.037077Z"
    }
   },
   "outputs": [
    {
     "data": {
      "image/png": "[encoded data removed]",
      "text/plain": [
       "<Figure size 1080x504 with 2 Axes>"
      ]
     },
     "metadata": {
      "needs_background": "light"
     },
     "output_type": "display_data"
    }
   ],
   "source": [
    "import matplotlib.pyplot as plt\n",
    "fig, axes = plt.subplots(1,2, figsize=(15,7))\n",
    "fig.suptitle('RandomForest의 ROC Curve', fontsize=30)\n",
    "\n",
    "disp_roc1 = RocCurveDisplay(fpr=fpr_train, tpr=tpr_train, roc_auc=auc_train)\n",
    "disp_roc1.plot(ax=axes[0])\n",
    "axes[0].set_title('Train set')\n",
    "\n",
    "disp_roc2 = RocCurveDisplay(fpr=fpr_test, tpr=tpr_test, roc_auc=auc_test)\n",
    "disp_roc2.plot(ax=axes[1])\n",
    "axes[1].set_title('Test set')\n",
    "\n",
    "plt.show()"
   ]
  },
  {
   "cell_type": "code",
   "execution_count": null,
   "id": "9356ec46",
   "metadata": {},
   "outputs": [],
   "source": []
  },
  {
   "cell_type": "code",
   "execution_count": null,
   "id": "7e0c1924",
   "metadata": {},
   "outputs": [],
   "source": []
  }
 ],
 "metadata": {
  "kernelspec": {
   "display_name": "Python 3 (ipykernel)",
   "language": "python",
   "name": "python3"
  },
  "language_info": {
   "codemirror_mode": {
    "name": "ipython",
    "version": 3
   },
   "file_extension": ".py",
   "mimetype": "text/x-python",
   "name": "python",
   "nbconvert_exporter": "python",
   "pygments_lexer": "ipython3",
   "version": "3.9.12"
  },
  "toc": {
   "base_numbering": 1,
   "nav_menu": {},
   "number_sections": true,
   "sideBar": true,
   "skip_h1_title": false,
   "title_cell": "Table of Contents",
   "title_sidebar": "Contents",
   "toc_cell": false,
   "toc_position": {},
   "toc_section_display": true,
   "toc_window_display": false
  },
  "varInspector": {
   "cols": {
    "lenName": 16,
    "lenType": 16,
    "lenVar": 40
   },
   "kernels_config": {
    "python": {
     "delete_cmd_postfix": "",
     "delete_cmd_prefix": "del ",
     "library": "var_list.py",
     "varRefreshCmd": "print(var_dic_list())"
    },
    "r": {
     "delete_cmd_postfix": ") ",
     "delete_cmd_prefix": "rm(",
     "library": "var_list.r",
     "varRefreshCmd": "cat(var_dic_list()) "
    }
   },
   "types_to_exclude": [
    "module",
    "function",
    "builtin_function_or_method",
    "instance",
    "_Feature"
   ],
   "window_display": false
  }
 },
 "nbformat": 4,
 "nbformat_minor": 5
}
