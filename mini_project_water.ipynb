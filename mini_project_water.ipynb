{
 "cells": [
  {
   "cell_type": "code",
   "execution_count": 4838,
   "id": "1e075d04",
   "metadata": {
    "ExecuteTime": {
     "end_time": "2022-07-20T09:10:51.354121Z",
     "start_time": "2022-07-20T09:10:51.345598Z"
    }
   },
   "outputs": [],
   "source": [
    "import numpy as np\n",
    "import pandas as pd\n",
    "\n",
    "from sklearn.model_selection import train_test_split\n",
    "from sklearn.tree import DecisionTreeClassifier\n",
    "from sklearn.ensemble import RandomForestClassifier\n",
    "from sklearn.neighbors import KNeighborsClassifier\n",
    "from sklearn.ensemble import AdaBoostClassifier\n",
    "from xgboost import XGBClassifier\n",
    "from sklearn.model_selection import RandomizedSearchCV, GridSearchCV\n",
    "from sklearn.metrics import accuracy_score\n",
    "\n"
   ]
  },
  {
   "cell_type": "code",
   "execution_count": 4839,
   "id": "a411eb99",
   "metadata": {
    "ExecuteTime": {
     "end_time": "2022-07-20T09:10:51.872617Z",
     "start_time": "2022-07-20T09:10:51.847650Z"
    },
    "scrolled": true
   },
   "outputs": [],
   "source": [
    "data  = pd.read_csv('data/water_potability.csv')\n",
    "\n",
    "corr = data.corr()\n",
    "\n",
    "\n"
   ]
  },
  {
   "cell_type": "code",
   "execution_count": 4840,
   "id": "5aad2625",
   "metadata": {
    "ExecuteTime": {
     "end_time": "2022-07-20T09:10:51.888641Z",
     "start_time": "2022-07-20T09:10:51.878624Z"
    }
   },
   "outputs": [
    {
     "data": {
      "text/plain": [
       "0    1998\n",
       "1    1278\n",
       "Name: Potability, dtype: int64"
      ]
     },
     "execution_count": 4840,
     "metadata": {},
     "output_type": "execute_result"
    }
   ],
   "source": [
    "data.Potability.value_counts()\n",
    "\n"
   ]
  },
  {
   "cell_type": "code",
   "execution_count": 4841,
   "id": "fe517ac4",
   "metadata": {
    "ExecuteTime": {
     "end_time": "2022-07-20T09:10:51.935637Z",
     "start_time": "2022-07-20T09:10:51.912631Z"
    },
    "scrolled": true
   },
   "outputs": [
    {
     "data": {
      "text/plain": [
       "Potability         1.000000\n",
       "Solids             0.033743\n",
       "Chloramines        0.023779\n",
       "Trihalomethanes    0.007130\n",
       "Turbidity          0.001581\n",
       "ph                -0.003556\n",
       "Conductivity      -0.008128\n",
       "Hardness          -0.013837\n",
       "Sulfate           -0.023577\n",
       "Organic_carbon    -0.030001\n",
       "Name: Potability, dtype: float64"
      ]
     },
     "execution_count": 4841,
     "metadata": {},
     "output_type": "execute_result"
    }
   ],
   "source": [
    "from sklearn.utils import shuffle\n",
    "notpotable  = data[data['Potability']==0]\n",
    "potable = data[data['Potability']==1]  \n",
    "\n",
    "notpotable = notpotable.fillna(notpotable.mean())\n",
    "potable  = potable.fillna(potable.mean())\n",
    "\n",
    "data = pd.concat([notpotable ,potable])\n",
    "\n",
    "data = shuffle(data)\n",
    "\n",
    "corr[\"Potability\"].sort_values(ascending=False)"
   ]
  },
  {
   "cell_type": "code",
   "execution_count": 4842,
   "id": "e6181148",
   "metadata": {
    "ExecuteTime": {
     "end_time": "2022-07-20T09:10:51.950638Z",
     "start_time": "2022-07-20T09:10:51.940637Z"
    }
   },
   "outputs": [
    {
     "data": {
      "text/plain": [
       "0    1998\n",
       "1    1278\n",
       "Name: Potability, dtype: int64"
      ]
     },
     "execution_count": 4842,
     "metadata": {},
     "output_type": "execute_result"
    }
   ],
   "source": [
    "data.Potability.value_counts()"
   ]
  },
  {
   "cell_type": "code",
   "execution_count": 4843,
   "id": "1d90dcbf",
   "metadata": {
    "ExecuteTime": {
     "end_time": "2022-07-20T09:10:51.997649Z",
     "start_time": "2022-07-20T09:10:51.970646Z"
    }
   },
   "outputs": [
    {
     "data": {
      "text/html": [
       "<div>\n",
       "<style scoped>\n",
       "    .dataframe tbody tr th:only-of-type {\n",
       "        vertical-align: middle;\n",
       "    }\n",
       "\n",
       "    .dataframe tbody tr th {\n",
       "        vertical-align: top;\n",
       "    }\n",
       "\n",
       "    .dataframe thead th {\n",
       "        text-align: right;\n",
       "    }\n",
       "</style>\n",
       "<table border=\"1\" class=\"dataframe\">\n",
       "  <thead>\n",
       "    <tr style=\"text-align: right;\">\n",
       "      <th></th>\n",
       "      <th>ph</th>\n",
       "      <th>Hardness</th>\n",
       "      <th>Solids</th>\n",
       "      <th>Chloramines</th>\n",
       "      <th>Sulfate</th>\n",
       "      <th>Conductivity</th>\n",
       "      <th>Organic_carbon</th>\n",
       "      <th>Trihalomethanes</th>\n",
       "    </tr>\n",
       "  </thead>\n",
       "  <tbody>\n",
       "    <tr>\n",
       "      <th>2146</th>\n",
       "      <td>5.689554</td>\n",
       "      <td>202.364723</td>\n",
       "      <td>17493.650424</td>\n",
       "      <td>5.520356</td>\n",
       "      <td>385.197355</td>\n",
       "      <td>479.237852</td>\n",
       "      <td>21.692974</td>\n",
       "      <td>66.303555</td>\n",
       "    </tr>\n",
       "    <tr>\n",
       "      <th>2196</th>\n",
       "      <td>8.616824</td>\n",
       "      <td>228.762945</td>\n",
       "      <td>19126.298537</td>\n",
       "      <td>7.017578</td>\n",
       "      <td>327.894821</td>\n",
       "      <td>383.527023</td>\n",
       "      <td>14.759257</td>\n",
       "      <td>41.275927</td>\n",
       "    </tr>\n",
       "    <tr>\n",
       "      <th>2039</th>\n",
       "      <td>5.226895</td>\n",
       "      <td>127.117555</td>\n",
       "      <td>7907.330441</td>\n",
       "      <td>6.761929</td>\n",
       "      <td>335.461842</td>\n",
       "      <td>475.332357</td>\n",
       "      <td>12.725010</td>\n",
       "      <td>79.420013</td>\n",
       "    </tr>\n",
       "    <tr>\n",
       "      <th>1062</th>\n",
       "      <td>8.815358</td>\n",
       "      <td>208.331084</td>\n",
       "      <td>26780.691787</td>\n",
       "      <td>7.223962</td>\n",
       "      <td>329.119685</td>\n",
       "      <td>430.406894</td>\n",
       "      <td>7.151751</td>\n",
       "      <td>88.413296</td>\n",
       "    </tr>\n",
       "    <tr>\n",
       "      <th>1990</th>\n",
       "      <td>7.773758</td>\n",
       "      <td>251.462844</td>\n",
       "      <td>21688.616943</td>\n",
       "      <td>6.194910</td>\n",
       "      <td>395.088245</td>\n",
       "      <td>355.831683</td>\n",
       "      <td>14.324552</td>\n",
       "      <td>67.584311</td>\n",
       "    </tr>\n",
       "    <tr>\n",
       "      <th>...</th>\n",
       "      <td>...</td>\n",
       "      <td>...</td>\n",
       "      <td>...</td>\n",
       "      <td>...</td>\n",
       "      <td>...</td>\n",
       "      <td>...</td>\n",
       "      <td>...</td>\n",
       "      <td>...</td>\n",
       "    </tr>\n",
       "    <tr>\n",
       "      <th>216</th>\n",
       "      <td>7.086168</td>\n",
       "      <td>189.145378</td>\n",
       "      <td>4304.492483</td>\n",
       "      <td>3.615891</td>\n",
       "      <td>259.373322</td>\n",
       "      <td>400.904350</td>\n",
       "      <td>12.993012</td>\n",
       "      <td>63.902288</td>\n",
       "    </tr>\n",
       "    <tr>\n",
       "      <th>1017</th>\n",
       "      <td>8.551078</td>\n",
       "      <td>216.415932</td>\n",
       "      <td>28909.290284</td>\n",
       "      <td>6.936782</td>\n",
       "      <td>295.223707</td>\n",
       "      <td>510.895001</td>\n",
       "      <td>16.202371</td>\n",
       "      <td>79.859323</td>\n",
       "    </tr>\n",
       "    <tr>\n",
       "      <th>1018</th>\n",
       "      <td>6.013161</td>\n",
       "      <td>218.843256</td>\n",
       "      <td>21573.747571</td>\n",
       "      <td>9.295852</td>\n",
       "      <td>321.168313</td>\n",
       "      <td>444.276635</td>\n",
       "      <td>14.744347</td>\n",
       "      <td>62.443239</td>\n",
       "    </tr>\n",
       "    <tr>\n",
       "      <th>263</th>\n",
       "      <td>13.175402</td>\n",
       "      <td>47.432000</td>\n",
       "      <td>19237.949676</td>\n",
       "      <td>8.907020</td>\n",
       "      <td>375.147315</td>\n",
       "      <td>500.245952</td>\n",
       "      <td>12.083896</td>\n",
       "      <td>66.539684</td>\n",
       "    </tr>\n",
       "    <tr>\n",
       "      <th>676</th>\n",
       "      <td>7.372612</td>\n",
       "      <td>220.387164</td>\n",
       "      <td>17606.885689</td>\n",
       "      <td>9.426339</td>\n",
       "      <td>274.206804</td>\n",
       "      <td>551.145207</td>\n",
       "      <td>14.826441</td>\n",
       "      <td>67.305421</td>\n",
       "    </tr>\n",
       "  </tbody>\n",
       "</table>\n",
       "<p>3276 rows × 8 columns</p>\n",
       "</div>"
      ],
      "text/plain": [
       "             ph    Hardness        Solids  Chloramines     Sulfate  \\\n",
       "2146   5.689554  202.364723  17493.650424     5.520356  385.197355   \n",
       "2196   8.616824  228.762945  19126.298537     7.017578  327.894821   \n",
       "2039   5.226895  127.117555   7907.330441     6.761929  335.461842   \n",
       "1062   8.815358  208.331084  26780.691787     7.223962  329.119685   \n",
       "1990   7.773758  251.462844  21688.616943     6.194910  395.088245   \n",
       "...         ...         ...           ...          ...         ...   \n",
       "216    7.086168  189.145378   4304.492483     3.615891  259.373322   \n",
       "1017   8.551078  216.415932  28909.290284     6.936782  295.223707   \n",
       "1018   6.013161  218.843256  21573.747571     9.295852  321.168313   \n",
       "263   13.175402   47.432000  19237.949676     8.907020  375.147315   \n",
       "676    7.372612  220.387164  17606.885689     9.426339  274.206804   \n",
       "\n",
       "      Conductivity  Organic_carbon  Trihalomethanes  \n",
       "2146    479.237852       21.692974        66.303555  \n",
       "2196    383.527023       14.759257        41.275927  \n",
       "2039    475.332357       12.725010        79.420013  \n",
       "1062    430.406894        7.151751        88.413296  \n",
       "1990    355.831683       14.324552        67.584311  \n",
       "...            ...             ...              ...  \n",
       "216     400.904350       12.993012        63.902288  \n",
       "1017    510.895001       16.202371        79.859323  \n",
       "1018    444.276635       14.744347        62.443239  \n",
       "263     500.245952       12.083896        66.539684  \n",
       "676     551.145207       14.826441        67.305421  \n",
       "\n",
       "[3276 rows x 8 columns]"
      ]
     },
     "execution_count": 4843,
     "metadata": {},
     "output_type": "execute_result"
    }
   ],
   "source": [
    "from sklearn.preprocessing import StandardScaler\n",
    "\n",
    "\n",
    "y = data['Potability']\n",
    "X = data.drop(columns=['Potability','Turbidity'], axis = 1) ### Turbidity 낮은 상관계수 \n",
    "\n",
    "\n",
    "## test_size 확인 \n",
    "\n",
    "X_train, X_test, y_train, y_test = train_test_split(X, y, test_size=0.5,stratify=y, random_state=1)\n",
    "\n",
    "X"
   ]
  },
  {
   "cell_type": "code",
   "execution_count": 4844,
   "id": "f5d65d5e",
   "metadata": {
    "ExecuteTime": {
     "end_time": "2022-07-20T09:10:52.012656Z",
     "start_time": "2022-07-20T09:10:52.003650Z"
    }
   },
   "outputs": [],
   "source": [
    "from sklearn.preprocessing import StandardScaler\n",
    "\n",
    "\n",
    "scaler = StandardScaler()\n",
    "\n",
    "X_train_scaled = scaler.fit_transform(X_train)\n",
    "X_test_scaled = scaler.transform(X_test)\n"
   ]
  },
  {
   "cell_type": "code",
   "execution_count": 4845,
   "id": "294e1605",
   "metadata": {
    "ExecuteTime": {
     "end_time": "2022-07-20T09:10:53.041628Z",
     "start_time": "2022-07-20T09:10:52.031657Z"
    },
    "scrolled": true
   },
   "outputs": [
    {
     "name": "stdout",
     "output_type": "stream",
     "text": [
      "0.9982555604012211 0.8260427263479145\n",
      "0.9999968030946044 0.8949281984334204\n"
     ]
    }
   ],
   "source": [
    "from sklearn.metrics import accuracy_score, roc_auc_score\n",
    "\n",
    "rf = RandomForestClassifier(n_estimators=300,\n",
    "                            criterion = 'entropy',\n",
    "                            max_depth=None,\n",
    "                            random_state=10,\n",
    "                            max_features=3,\n",
    "                            min_samples_leaf=2,\n",
    "                            n_jobs=-1\n",
    "                          )\n",
    "\n",
    "\n",
    "\n",
    "rf.fit(X_train_scaled, y_train)\n",
    "\n",
    "rf_pred_train = rf.predict(X_train_scaled)\n",
    "rf_pred_test = rf.predict(X_test_scaled)\n",
    "\n",
    "proba_train = rf.predict_proba(X_train_scaled)\n",
    "proba_test = rf.predict_proba(X_test_scaled)\n",
    "\n",
    "print(accuracy_score(y_train, rf_pred_train), accuracy_score(y_test, rf_pred_test))\n",
    "print(roc_auc_score(y_train, proba_train[:,1]), roc_auc_score(y_test, proba_test[:, 1]))"
   ]
  },
  {
   "cell_type": "code",
   "execution_count": 4846,
   "id": "ea0c66fb",
   "metadata": {
    "ExecuteTime": {
     "end_time": "2022-07-20T09:10:53.150628Z",
     "start_time": "2022-07-20T09:10:53.044628Z"
    }
   },
   "outputs": [
    {
     "name": "stdout",
     "output_type": "stream",
     "text": [
      "0.9465811965811965\n"
     ]
    }
   ],
   "source": [
    "\n",
    "\n",
    "\n",
    "X_s = scaler.transform(X)\n",
    "\n",
    "rf_pred_X = rf.predict(X_s)\n",
    "print(accuracy_score(y, rf_pred_X))"
   ]
  },
  {
   "cell_type": "code",
   "execution_count": 4830,
   "id": "9156b1e9",
   "metadata": {
    "ExecuteTime": {
     "end_time": "2022-07-20T09:10:43.385631Z",
     "start_time": "2022-07-20T09:10:43.371626Z"
    }
   },
   "outputs": [
    {
     "name": "stdout",
     "output_type": "stream",
     "text": [
      "0.6096816397732229 0.6103763987792472\n"
     ]
    }
   ],
   "source": [
    "from sklearn.linear_model import LogisticRegression\n",
    "\n",
    "lr = LogisticRegression(random_state=0)\n",
    "lr.fit(X_train_scaled, y_train)\n",
    "\n",
    "\n",
    "lr_pred_train = lr.predict(X_train_scaled)\n",
    "lr_pred_test = lr.predict(X_test_scaled)\n",
    "\n",
    "\n",
    "print(accuracy_score(y_train, lr_pred_train), accuracy_score(y_test, lr_pred_test))"
   ]
  },
  {
   "cell_type": "code",
   "execution_count": null,
   "id": "cca988cb",
   "metadata": {},
   "outputs": [],
   "source": []
  },
  {
   "cell_type": "code",
   "execution_count": null,
   "id": "e7b8df37",
   "metadata": {},
   "outputs": [],
   "source": []
  },
  {
   "cell_type": "code",
   "execution_count": null,
   "id": "a8ef1fdd",
   "metadata": {},
   "outputs": [],
   "source": []
  },
  {
   "cell_type": "code",
   "execution_count": null,
   "id": "d599b54d",
   "metadata": {},
   "outputs": [],
   "source": []
  },
  {
   "cell_type": "code",
   "execution_count": null,
   "id": "17297e02",
   "metadata": {},
   "outputs": [],
   "source": []
  },
  {
   "cell_type": "code",
   "execution_count": null,
   "id": "2cb09a78",
   "metadata": {},
   "outputs": [],
   "source": []
  }
 ],
 "metadata": {
  "kernelspec": {
   "display_name": "Python 3 (ipykernel)",
   "language": "python",
   "name": "python3"
  },
  "language_info": {
   "codemirror_mode": {
    "name": "ipython",
    "version": 3
   },
   "file_extension": ".py",
   "mimetype": "text/x-python",
   "name": "python",
   "nbconvert_exporter": "python",
   "pygments_lexer": "ipython3",
   "version": "3.9.7"
  }
 },
 "nbformat": 4,
 "nbformat_minor": 5
}
